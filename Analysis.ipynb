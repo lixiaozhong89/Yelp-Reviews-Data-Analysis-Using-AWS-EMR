{
 "cells": [
  {
   "cell_type": "markdown",
   "id": "18a81e7f",
   "metadata": {},
   "source": [
    "# Analysis of Yelp Business Intelligence Data"
   ]
  },
  {
   "cell_type": "markdown",
   "id": "b8ba2caa",
   "metadata": {},
   "source": [
    "We will analyze a subset of Yelp's business, reviews and user data. This dataset comes to us from Kaggle although we have taken steps to pull this data into a publis s3 bucket: `s3://cis9760-yelpdataset/yelp-light/*business.json`"
   ]
  },
  {
   "cell_type": "markdown",
   "id": "5b26b5a8",
   "metadata": {},
   "source": [
    "# Installation and Initial Setup"
   ]
  },
  {
   "cell_type": "markdown",
   "id": "a4476bf7",
   "metadata": {},
   "source": [
    "Begin by installing the necessary libraries that you may need to conduct your analysis. At the very least, you must install `pandas` and `matplotlib`"
   ]
  },
  {
   "cell_type": "code",
   "execution_count": 1,
   "id": "69256c89",
   "metadata": {},
   "outputs": [
    {
     "data": {
      "text/html": [
       "Current session configs: <tt>{'conf': {'spark.pyspark.python': 'python3', 'spark.pyspark.virtualenv.enabled': 'true', 'spark.pyspark.virtualenv.type': 'native', 'spark.pyspark.virtualenv.bin.path': '/usr/bin/virtualenv'}, 'kind': 'pyspark'}</tt><br>"
      ],
      "text/plain": [
       "<IPython.core.display.HTML object>"
      ]
     },
     "metadata": {},
     "output_type": "display_data"
    },
    {
     "data": {
      "text/html": [
       "No active sessions."
      ],
      "text/plain": [
       "<IPython.core.display.HTML object>"
      ]
     },
     "metadata": {},
     "output_type": "display_data"
    }
   ],
   "source": [
    "%%info"
   ]
  },
  {
   "cell_type": "code",
   "execution_count": 2,
   "id": "7a5c067e",
   "metadata": {},
   "outputs": [
    {
     "data": {
      "application/vnd.jupyter.widget-view+json": {
       "model_id": "8a8bc5f45d7a4ffb97a4d7219c4c0fcc",
       "version_major": 2,
       "version_minor": 0
      },
      "text/plain": [
       "VBox()"
      ]
     },
     "metadata": {},
     "output_type": "display_data"
    },
    {
     "name": "stdout",
     "output_type": "stream",
     "text": [
      "Starting Spark application\n"
     ]
    },
    {
     "data": {
      "text/html": [
       "<table>\n",
       "<tr><th>ID</th><th>YARN Application ID</th><th>Kind</th><th>State</th><th>Spark UI</th><th>Driver log</th><th>Current session?</th></tr><tr><td>0</td><td>application_1651365778622_0001</td><td>pyspark</td><td>idle</td><td><a target=\"_blank\" href=\"http://ip-172-31-78-94.ec2.internal:20888/proxy/application_1651365778622_0001/\">Link</a></td><td><a target=\"_blank\" href=\"http://ip-172-31-73-113.ec2.internal:8042/node/containerlogs/container_1651365778622_0001_01_000001/livy\">Link</a></td><td>✔</td></tr></table>"
      ],
      "text/plain": [
       "<IPython.core.display.HTML object>"
      ]
     },
     "metadata": {},
     "output_type": "display_data"
    },
    {
     "data": {
      "application/vnd.jupyter.widget-view+json": {
       "model_id": "",
       "version_major": 2,
       "version_minor": 0
      },
      "text/plain": [
       "FloatProgress(value=0.0, bar_style='info', description='Progress:', layout=Layout(height='25px', width='50%'),…"
      ]
     },
     "metadata": {},
     "output_type": "display_data"
    },
    {
     "name": "stdout",
     "output_type": "stream",
     "text": [
      "SparkSession available as 'spark'.\n"
     ]
    },
    {
     "data": {
      "application/vnd.jupyter.widget-view+json": {
       "model_id": "",
       "version_major": 2,
       "version_minor": 0
      },
      "text/plain": [
       "FloatProgress(value=0.0, bar_style='info', description='Progress:', layout=Layout(height='25px', width='50%'),…"
      ]
     },
     "metadata": {},
     "output_type": "display_data"
    },
    {
     "name": "stdout",
     "output_type": "stream",
     "text": [
      "Collecting matplotlib==3.2.1\n",
      "  Downloading https://files.pythonhosted.org/packages/b2/c2/71fcf957710f3ba1f09088b35776a799ba7dd95f7c2b195ec800933b276b/matplotlib-3.2.1-cp37-cp37m-manylinux1_x86_64.whl (12.4MB)\n",
      "Collecting python-dateutil>=2.1 (from matplotlib==3.2.1)\n",
      "  Downloading https://files.pythonhosted.org/packages/36/7a/87837f39d0296e723bb9b62bbb257d0355c7f6128853c78955f57342a56d/python_dateutil-2.8.2-py2.py3-none-any.whl (247kB)\n",
      "Collecting pyparsing!=2.0.4,!=2.1.2,!=2.1.6,>=2.0.1 (from matplotlib==3.2.1)\n",
      "  Downloading https://files.pythonhosted.org/packages/d9/41/d9cfb4410589805cd787f8a82cddd13142d9bf7449d12adf2d05a4a7d633/pyparsing-3.0.8-py3-none-any.whl (98kB)\n",
      "Collecting cycler>=0.10 (from matplotlib==3.2.1)\n",
      "  Downloading https://files.pythonhosted.org/packages/5c/f9/695d6bedebd747e5eb0fe8fad57b72fdf25411273a39791cde838d5a8f51/cycler-0.11.0-py3-none-any.whl\n",
      "Requirement already satisfied: numpy>=1.11 in /usr/local/lib64/python3.7/site-packages (from matplotlib==3.2.1)\n",
      "Collecting kiwisolver>=1.0.1 (from matplotlib==3.2.1)\n",
      "  Downloading https://files.pythonhosted.org/packages/51/50/9a9a94afa26c50fc5d9127272737806990aa698c7a1c220b8e5075e70304/kiwisolver-1.4.2-cp37-cp37m-manylinux_2_5_x86_64.manylinux1_x86_64.whl (1.1MB)\n",
      "Requirement already satisfied: six>=1.5 in /usr/local/lib/python3.7/site-packages (from python-dateutil>=2.1->matplotlib==3.2.1)\n",
      "Collecting typing-extensions; python_version < \"3.8\" (from kiwisolver>=1.0.1->matplotlib==3.2.1)\n",
      "  Downloading https://files.pythonhosted.org/packages/75/e1/932e06004039dd670c9d5e1df0cd606bf46e29a28e65d5bb28e894ea29c9/typing_extensions-4.2.0-py3-none-any.whl\n",
      "Installing collected packages: python-dateutil, pyparsing, cycler, typing-extensions, kiwisolver, matplotlib\n",
      "Successfully installed cycler-0.11.0 kiwisolver-1.4.2 matplotlib-3.2.1 pyparsing-3.0.8 python-dateutil-2.8.2 typing-extensions-4.2.0\n",
      "\n",
      "Collecting pandas==1.0.3\n",
      "  Downloading https://files.pythonhosted.org/packages/4a/6a/94b219b8ea0f2d580169e85ed1edc0163743f55aaeca8a44c2e8fc1e344e/pandas-1.0.3-cp37-cp37m-manylinux1_x86_64.whl (10.0MB)\n",
      "Requirement already satisfied: pytz>=2017.2 in /usr/local/lib/python3.7/site-packages (from pandas==1.0.3)\n",
      "Requirement already satisfied: numpy>=1.13.3 in /usr/local/lib64/python3.7/site-packages (from pandas==1.0.3)\n",
      "Requirement already satisfied: python-dateutil>=2.6.1 in /mnt/tmp/1651366008376-0/lib/python3.7/site-packages (from pandas==1.0.3)\n",
      "Requirement already satisfied: six>=1.5 in /usr/local/lib/python3.7/site-packages (from python-dateutil>=2.6.1->pandas==1.0.3)\n",
      "Installing collected packages: pandas\n",
      "Successfully installed pandas-1.0.3\n",
      "\n",
      "Collecting scipy==1.7.1\n",
      "  Downloading https://files.pythonhosted.org/packages/b5/6b/8bc0b61ebf824f8c3979a31368bbe38dd247590049a994ab0ed077cb56dc/scipy-1.7.1-cp37-cp37m-manylinux_2_5_x86_64.manylinux1_x86_64.whl (28.5MB)\n",
      "Requirement already satisfied: numpy<1.23.0,>=1.16.5 in /usr/local/lib64/python3.7/site-packages (from scipy==1.7.1)\n",
      "Installing collected packages: scipy\n",
      "Successfully installed scipy-1.7.1\n",
      "\n",
      "Collecting seaborn==0.11.2\n",
      "  Downloading https://files.pythonhosted.org/packages/10/5b/0479d7d845b5ba410ca702ffcd7f2cd95a14a4dfff1fde2637802b258b9b/seaborn-0.11.2-py3-none-any.whl (292kB)\n",
      "Requirement already satisfied: numpy>=1.15 in /usr/local/lib64/python3.7/site-packages (from seaborn==0.11.2)\n",
      "Requirement already satisfied: scipy>=1.0 in /mnt/tmp/1651366008376-0/lib/python3.7/site-packages (from seaborn==0.11.2)\n",
      "Requirement already satisfied: matplotlib>=2.2 in /mnt/tmp/1651366008376-0/lib/python3.7/site-packages (from seaborn==0.11.2)\n",
      "Requirement already satisfied: pandas>=0.23 in /mnt/tmp/1651366008376-0/lib/python3.7/site-packages (from seaborn==0.11.2)\n",
      "Requirement already satisfied: python-dateutil>=2.1 in /mnt/tmp/1651366008376-0/lib/python3.7/site-packages (from matplotlib>=2.2->seaborn==0.11.2)\n",
      "Requirement already satisfied: pyparsing!=2.0.4,!=2.1.2,!=2.1.6,>=2.0.1 in /mnt/tmp/1651366008376-0/lib/python3.7/site-packages (from matplotlib>=2.2->seaborn==0.11.2)\n",
      "Requirement already satisfied: cycler>=0.10 in /mnt/tmp/1651366008376-0/lib/python3.7/site-packages (from matplotlib>=2.2->seaborn==0.11.2)\n",
      "Requirement already satisfied: kiwisolver>=1.0.1 in /mnt/tmp/1651366008376-0/lib/python3.7/site-packages (from matplotlib>=2.2->seaborn==0.11.2)\n",
      "Requirement already satisfied: pytz>=2017.2 in /usr/local/lib/python3.7/site-packages (from pandas>=0.23->seaborn==0.11.2)\n",
      "Requirement already satisfied: six>=1.5 in /usr/local/lib/python3.7/site-packages (from python-dateutil>=2.1->matplotlib>=2.2->seaborn==0.11.2)\n",
      "Requirement already satisfied: typing-extensions; python_version < \"3.8\" in /mnt/tmp/1651366008376-0/lib/python3.7/site-packages (from kiwisolver>=1.0.1->matplotlib>=2.2->seaborn==0.11.2)\n",
      "Installing collected packages: seaborn\n",
      "Successfully installed seaborn-0.11.2"
     ]
    }
   ],
   "source": [
    "sc.install_pypi_package(\"matplotlib==3.2.1\")\n",
    "sc.install_pypi_package(\"pandas==1.0.3\")\n",
    "sc.install_pypi_package(\"scipy==1.7.1\")\n",
    "sc.install_pypi_package(\"seaborn==0.11.2\")"
   ]
  },
  {
   "cell_type": "markdown",
   "id": "a6b093ff",
   "metadata": {},
   "source": [
    "## Importing"
   ]
  },
  {
   "cell_type": "markdown",
   "id": "fb96b93e",
   "metadata": {},
   "source": [
    "Now, import the installed packages from the previous block below."
   ]
  },
  {
   "cell_type": "code",
   "execution_count": 3,
   "id": "bd542237",
   "metadata": {},
   "outputs": [
    {
     "data": {
      "application/vnd.jupyter.widget-view+json": {
       "model_id": "2dfc725a9eb04e71955f777e9df7fb07",
       "version_major": 2,
       "version_minor": 0
      },
      "text/plain": [
       "VBox()"
      ]
     },
     "metadata": {},
     "output_type": "display_data"
    },
    {
     "data": {
      "application/vnd.jupyter.widget-view+json": {
       "model_id": "",
       "version_major": 2,
       "version_minor": 0
      },
      "text/plain": [
       "FloatProgress(value=0.0, bar_style='info', description='Progress:', layout=Layout(height='25px', width='50%'),…"
      ]
     },
     "metadata": {},
     "output_type": "display_data"
    }
   ],
   "source": [
    "import pandas as pd\n",
    "import seaborn as sns\n",
    "import matplotlib.pyplot as plt"
   ]
  },
  {
   "cell_type": "markdown",
   "id": "df63a92b",
   "metadata": {},
   "source": [
    "## Loading Data"
   ]
  },
  {
   "cell_type": "markdown",
   "id": "15d8e133",
   "metadata": {},
   "source": [
    "We are finally ready to load data. Using spark load the data from S3 into a dataframe object that we can manipulate further down in our analysis."
   ]
  },
  {
   "cell_type": "code",
   "execution_count": 4,
   "id": "5c999df5",
   "metadata": {},
   "outputs": [
    {
     "data": {
      "application/vnd.jupyter.widget-view+json": {
       "model_id": "5442b1e4b3fb426badf624f4446c851f",
       "version_major": 2,
       "version_minor": 0
      },
      "text/plain": [
       "VBox()"
      ]
     },
     "metadata": {},
     "output_type": "display_data"
    },
    {
     "data": {
      "application/vnd.jupyter.widget-view+json": {
       "model_id": "",
       "version_major": 2,
       "version_minor": 0
      },
      "text/plain": [
       "FloatProgress(value=0.0, bar_style='info', description='Progress:', layout=Layout(height='25px', width='50%'),…"
      ]
     },
     "metadata": {},
     "output_type": "display_data"
    }
   ],
   "source": [
    "df = spark.read.json('s3://cis9760-emr-bucket/yelp_academic_dataset_business.json')"
   ]
  },
  {
   "cell_type": "code",
   "execution_count": 5,
   "id": "9be98327",
   "metadata": {},
   "outputs": [
    {
     "data": {
      "application/vnd.jupyter.widget-view+json": {
       "model_id": "d289750b02b6416da77bfdcc209282c7",
       "version_major": 2,
       "version_minor": 0
      },
      "text/plain": [
       "VBox()"
      ]
     },
     "metadata": {},
     "output_type": "display_data"
    },
    {
     "data": {
      "application/vnd.jupyter.widget-view+json": {
       "model_id": "",
       "version_major": 2,
       "version_minor": 0
      },
      "text/plain": [
       "FloatProgress(value=0.0, bar_style='info', description='Progress:', layout=Layout(height='25px', width='50%'),…"
      ]
     },
     "metadata": {},
     "output_type": "display_data"
    },
    {
     "name": "stdout",
     "output_type": "stream",
     "text": [
      "+--------------------+--------------------+--------------------+--------------------+-------------+--------------------+-------+----------+------------+--------------------+-----------+------------+-----+-----+\n",
      "|             address|          attributes|         business_id|          categories|         city|               hours|is_open|  latitude|   longitude|                name|postal_code|review_count|stars|state|\n",
      "+--------------------+--------------------+--------------------+--------------------+-------------+--------------------+-------+----------+------------+--------------------+-----------+------------+-----+-----+\n",
      "|1616 Chapala St, ...|[,,,,,,,,,,, True...|Pns2l4eNsfO8kk83d...|Doctors, Traditio...|Santa Barbara|                null|      0|34.4266787|-119.7111968|Abby Rappoport, L...|      93101|           7|  5.0|   CA|\n",
      "|87 Grasso Plaza S...|[,,,,,,,,, True,,...|mpf3x-BjTdTEA3yCZ...|Shipping Centers,...|       Affton|[8:0-18:30, 0:0-0...|      1| 38.551126|  -90.335695|       The UPS Store|      63123|          15|  3.0|   MO|\n",
      "|5255 E Broadway Blvd|[,,,,,,, True,, T...|tUFrWirKiKi_TAnsV...|Department Stores...|       Tucson|[8:0-23:0, 8:0-22...|      0| 32.223236| -110.880452|              Target|      85711|          22|  3.5|   AZ|\n",
      "|         935 Race St|[,, u'none',,,,, ...|MTSW4McQd7CbVtyjq...|Restaurants, Food...| Philadelphia|[7:0-21:0, 7:0-20...|      1|39.9555052| -75.1555641|  St Honore Pastries|      19107|          80|  4.0|   PA|\n",
      "|       101 Walnut St|[,,,,,,, True,, T...|mWMc6_wTdE0EUBKIG...|Brewpubs, Breweri...|   Green Lane|[12:0-22:0,, 12:0...|      1|40.3381827| -75.4716585|Perkiomen Valley ...|      18054|          13|  4.5|   PA|\n",
      "+--------------------+--------------------+--------------------+--------------------+-------------+--------------------+-------+----------+------------+--------------------+-----------+------------+-----+-----+\n",
      "only showing top 5 rows"
     ]
    }
   ],
   "source": [
    "df.show(5)"
   ]
  },
  {
   "cell_type": "markdown",
   "id": "7abb866d",
   "metadata": {},
   "source": [
    "# Overview of Data"
   ]
  },
  {
   "cell_type": "markdown",
   "id": "07c787ca",
   "metadata": {},
   "source": [
    "Display the number of rows and columns in our dataset."
   ]
  },
  {
   "cell_type": "code",
   "execution_count": 58,
   "id": "c374194f",
   "metadata": {},
   "outputs": [
    {
     "data": {
      "application/vnd.jupyter.widget-view+json": {
       "model_id": "3cfd9f3f17ad45a5b16f98e19a038100",
       "version_major": 2,
       "version_minor": 0
      },
      "text/plain": [
       "VBox()"
      ]
     },
     "metadata": {},
     "output_type": "display_data"
    },
    {
     "data": {
      "application/vnd.jupyter.widget-view+json": {
       "model_id": "",
       "version_major": 2,
       "version_minor": 0
      },
      "text/plain": [
       "FloatProgress(value=0.0, bar_style='info', description='Progress:', layout=Layout(height='25px', width='50%'),…"
      ]
     },
     "metadata": {},
     "output_type": "display_data"
    },
    {
     "name": "stdout",
     "output_type": "stream",
     "text": [
      "Number of columns in Business table: 14\n",
      "Number of rows in Business table: 150346"
     ]
    }
   ],
   "source": [
    "print(f\"Number of columns in Business table: {len(df.columns)}\")\n",
    "print(f\"Number of rows in Business table: {df.count()}\")"
   ]
  },
  {
   "cell_type": "markdown",
   "id": "dc29ae82",
   "metadata": {},
   "source": [
    "Display the DataFrame schema below."
   ]
  },
  {
   "cell_type": "code",
   "execution_count": 7,
   "id": "2e402413",
   "metadata": {},
   "outputs": [
    {
     "data": {
      "application/vnd.jupyter.widget-view+json": {
       "model_id": "b4b3e027dd584eea941bd08a3fa0c7fa",
       "version_major": 2,
       "version_minor": 0
      },
      "text/plain": [
       "VBox()"
      ]
     },
     "metadata": {},
     "output_type": "display_data"
    },
    {
     "data": {
      "application/vnd.jupyter.widget-view+json": {
       "model_id": "",
       "version_major": 2,
       "version_minor": 0
      },
      "text/plain": [
       "FloatProgress(value=0.0, bar_style='info', description='Progress:', layout=Layout(height='25px', width='50%'),…"
      ]
     },
     "metadata": {},
     "output_type": "display_data"
    },
    {
     "name": "stdout",
     "output_type": "stream",
     "text": [
      "root\n",
      " |-- address: string (nullable = true)\n",
      " |-- attributes: struct (nullable = true)\n",
      " |    |-- AcceptsInsurance: string (nullable = true)\n",
      " |    |-- AgesAllowed: string (nullable = true)\n",
      " |    |-- Alcohol: string (nullable = true)\n",
      " |    |-- Ambience: string (nullable = true)\n",
      " |    |-- BYOB: string (nullable = true)\n",
      " |    |-- BYOBCorkage: string (nullable = true)\n",
      " |    |-- BestNights: string (nullable = true)\n",
      " |    |-- BikeParking: string (nullable = true)\n",
      " |    |-- BusinessAcceptsBitcoin: string (nullable = true)\n",
      " |    |-- BusinessAcceptsCreditCards: string (nullable = true)\n",
      " |    |-- BusinessParking: string (nullable = true)\n",
      " |    |-- ByAppointmentOnly: string (nullable = true)\n",
      " |    |-- Caters: string (nullable = true)\n",
      " |    |-- CoatCheck: string (nullable = true)\n",
      " |    |-- Corkage: string (nullable = true)\n",
      " |    |-- DietaryRestrictions: string (nullable = true)\n",
      " |    |-- DogsAllowed: string (nullable = true)\n",
      " |    |-- DriveThru: string (nullable = true)\n",
      " |    |-- GoodForDancing: string (nullable = true)\n",
      " |    |-- GoodForKids: string (nullable = true)\n",
      " |    |-- GoodForMeal: string (nullable = true)\n",
      " |    |-- HairSpecializesIn: string (nullable = true)\n",
      " |    |-- HappyHour: string (nullable = true)\n",
      " |    |-- HasTV: string (nullable = true)\n",
      " |    |-- Music: string (nullable = true)\n",
      " |    |-- NoiseLevel: string (nullable = true)\n",
      " |    |-- Open24Hours: string (nullable = true)\n",
      " |    |-- OutdoorSeating: string (nullable = true)\n",
      " |    |-- RestaurantsAttire: string (nullable = true)\n",
      " |    |-- RestaurantsCounterService: string (nullable = true)\n",
      " |    |-- RestaurantsDelivery: string (nullable = true)\n",
      " |    |-- RestaurantsGoodForGroups: string (nullable = true)\n",
      " |    |-- RestaurantsPriceRange2: string (nullable = true)\n",
      " |    |-- RestaurantsReservations: string (nullable = true)\n",
      " |    |-- RestaurantsTableService: string (nullable = true)\n",
      " |    |-- RestaurantsTakeOut: string (nullable = true)\n",
      " |    |-- Smoking: string (nullable = true)\n",
      " |    |-- WheelchairAccessible: string (nullable = true)\n",
      " |    |-- WiFi: string (nullable = true)\n",
      " |-- business_id: string (nullable = true)\n",
      " |-- categories: string (nullable = true)\n",
      " |-- city: string (nullable = true)\n",
      " |-- hours: struct (nullable = true)\n",
      " |    |-- Friday: string (nullable = true)\n",
      " |    |-- Monday: string (nullable = true)\n",
      " |    |-- Saturday: string (nullable = true)\n",
      " |    |-- Sunday: string (nullable = true)\n",
      " |    |-- Thursday: string (nullable = true)\n",
      " |    |-- Tuesday: string (nullable = true)\n",
      " |    |-- Wednesday: string (nullable = true)\n",
      " |-- is_open: long (nullable = true)\n",
      " |-- latitude: double (nullable = true)\n",
      " |-- longitude: double (nullable = true)\n",
      " |-- name: string (nullable = true)\n",
      " |-- postal_code: string (nullable = true)\n",
      " |-- review_count: long (nullable = true)\n",
      " |-- stars: double (nullable = true)\n",
      " |-- state: string (nullable = true)"
     ]
    }
   ],
   "source": [
    "df.printSchema()"
   ]
  },
  {
   "cell_type": "markdown",
   "id": "75278d43",
   "metadata": {},
   "source": [
    "Display the first 5 rows with the following columns:\n",
    "\n",
    "* `business_id`\n",
    "* `name`\n",
    "* `city`\n",
    "* `state`\n",
    "* `categories`"
   ]
  },
  {
   "cell_type": "code",
   "execution_count": 8,
   "id": "7fb2310d",
   "metadata": {},
   "outputs": [
    {
     "data": {
      "application/vnd.jupyter.widget-view+json": {
       "model_id": "11c4da6d0e8242c7ab0d44945ec14c71",
       "version_major": 2,
       "version_minor": 0
      },
      "text/plain": [
       "VBox()"
      ]
     },
     "metadata": {},
     "output_type": "display_data"
    },
    {
     "data": {
      "application/vnd.jupyter.widget-view+json": {
       "model_id": "",
       "version_major": 2,
       "version_minor": 0
      },
      "text/plain": [
       "FloatProgress(value=0.0, bar_style='info', description='Progress:', layout=Layout(height='25px', width='50%'),…"
      ]
     },
     "metadata": {},
     "output_type": "display_data"
    },
    {
     "name": "stdout",
     "output_type": "stream",
     "text": [
      "+--------------------+--------------------+-------------+-----+--------------------+\n",
      "|         business_id|                name|         city|state|          categories|\n",
      "+--------------------+--------------------+-------------+-----+--------------------+\n",
      "|Pns2l4eNsfO8kk83d...|Abby Rappoport, L...|Santa Barbara|   CA|Doctors, Traditio...|\n",
      "|mpf3x-BjTdTEA3yCZ...|       The UPS Store|       Affton|   MO|Shipping Centers,...|\n",
      "|tUFrWirKiKi_TAnsV...|              Target|       Tucson|   AZ|Department Stores...|\n",
      "|MTSW4McQd7CbVtyjq...|  St Honore Pastries| Philadelphia|   PA|Restaurants, Food...|\n",
      "|mWMc6_wTdE0EUBKIG...|Perkiomen Valley ...|   Green Lane|   PA|Brewpubs, Breweri...|\n",
      "+--------------------+--------------------+-------------+-----+--------------------+\n",
      "only showing top 5 rows"
     ]
    }
   ],
   "source": [
    "df.select(\"business_id\", \"name\", \"city\", \"state\", \"categories\").show(5)"
   ]
  },
  {
   "cell_type": "markdown",
   "id": "6fece28f",
   "metadata": {},
   "source": [
    "# Analyzing Categories"
   ]
  },
  {
   "cell_type": "markdown",
   "id": "c6c46d5b",
   "metadata": {},
   "source": [
    "Let's now answer this question: **how many unique categories are represented in this dataset?**\n",
    "\n",
    "Essentially, we have the categories per business as a list - this is useful to quickly see what each business might be represented as but it is difficult to easily answer questions such as:\n",
    "\n",
    "* How many businesses are categorized as `Active Life`, for instance\n",
    "* What are the top 20 most popular categories available?"
   ]
  },
  {
   "cell_type": "markdown",
   "id": "660fba04",
   "metadata": {},
   "source": [
    "## Association Table\n",
    "\n",
    "We need to \"break out\" these categories from the business ids? One common approach to take is to build an association table mapping a single business id multiple times to each distinct category.\n",
    "\n",
    "For instance, given the following:\n",
    "\n",
    "\n",
    "| business_id | categories |\n",
    "|-------------|------------|\n",
    "| abcd123     | a,b,c      |\n",
    "\n",
    "We would like to derive something like:\n",
    "\n",
    "| business_id | category |\n",
    "|-------------|------------|\n",
    "| abcd123     | a          |\n",
    "| abcd123     | b          |\n",
    "| abcd123     | c          |\n",
    "\n",
    "\n",
    "What this does is allow us to then perform a myriad of rollups and other analysis on this association table which can aid us in answering the questions asked above.\n",
    "\n",
    "Implement the code necessary to derive the table described from your original yelp dataframe."
   ]
  },
  {
   "cell_type": "code",
   "execution_count": 9,
   "id": "c0eb22d8",
   "metadata": {},
   "outputs": [
    {
     "data": {
      "application/vnd.jupyter.widget-view+json": {
       "model_id": "68d3844a191f4d8ab8a057739edf709d",
       "version_major": 2,
       "version_minor": 0
      },
      "text/plain": [
       "VBox()"
      ]
     },
     "metadata": {},
     "output_type": "display_data"
    },
    {
     "data": {
      "application/vnd.jupyter.widget-view+json": {
       "model_id": "",
       "version_major": 2,
       "version_minor": 0
      },
      "text/plain": [
       "FloatProgress(value=0.0, bar_style='info', description='Progress:', layout=Layout(height='25px', width='50%'),…"
      ]
     },
     "metadata": {},
     "output_type": "display_data"
    }
   ],
   "source": [
    "# Install the necessary libraries here\n",
    "from pyspark.sql.functions import explode, split"
   ]
  },
  {
   "cell_type": "code",
   "execution_count": 10,
   "id": "ff8d3ecd",
   "metadata": {},
   "outputs": [
    {
     "data": {
      "application/vnd.jupyter.widget-view+json": {
       "model_id": "9b71ffd5ca774fa0bed64c90b0e0e96b",
       "version_major": 2,
       "version_minor": 0
      },
      "text/plain": [
       "VBox()"
      ]
     },
     "metadata": {},
     "output_type": "display_data"
    },
    {
     "data": {
      "application/vnd.jupyter.widget-view+json": {
       "model_id": "",
       "version_major": 2,
       "version_minor": 0
      },
      "text/plain": [
       "FloatProgress(value=0.0, bar_style='info', description='Progress:', layout=Layout(height='25px', width='50%'),…"
      ]
     },
     "metadata": {},
     "output_type": "display_data"
    },
    {
     "name": "stdout",
     "output_type": "stream",
     "text": [
      "+--------------------+--------------------+\n",
      "|         business_id|          categories|\n",
      "+--------------------+--------------------+\n",
      "|Pns2l4eNsfO8kk83d...|Doctors, Traditio...|\n",
      "|mpf3x-BjTdTEA3yCZ...|Shipping Centers,...|\n",
      "|tUFrWirKiKi_TAnsV...|Department Stores...|\n",
      "|MTSW4McQd7CbVtyjq...|Restaurants, Food...|\n",
      "|mWMc6_wTdE0EUBKIG...|Brewpubs, Breweri...|\n",
      "+--------------------+--------------------+\n",
      "only showing top 5 rows"
     ]
    }
   ],
   "source": [
    "df_cat=df.select(\"business_id\", \"categories\")\n",
    "df_cat.show(5)"
   ]
  },
  {
   "cell_type": "markdown",
   "id": "5f92bc49",
   "metadata": {},
   "source": [
    "Display the first 5 rows of your association table below."
   ]
  },
  {
   "cell_type": "code",
   "execution_count": 11,
   "id": "f0e1c1db",
   "metadata": {},
   "outputs": [
    {
     "data": {
      "application/vnd.jupyter.widget-view+json": {
       "model_id": "20ec364dc8bd4d3eacdf4b72fb5ce8ec",
       "version_major": 2,
       "version_minor": 0
      },
      "text/plain": [
       "VBox()"
      ]
     },
     "metadata": {},
     "output_type": "display_data"
    },
    {
     "data": {
      "application/vnd.jupyter.widget-view+json": {
       "model_id": "",
       "version_major": 2,
       "version_minor": 0
      },
      "text/plain": [
       "FloatProgress(value=0.0, bar_style='info', description='Progress:', layout=Layout(height='25px', width='50%'),…"
      ]
     },
     "metadata": {},
     "output_type": "display_data"
    },
    {
     "name": "stdout",
     "output_type": "stream",
     "text": [
      "+--------------------+--------------------+\n",
      "|         business_id|          categories|\n",
      "+--------------------+--------------------+\n",
      "|Pns2l4eNsfO8kk83d...|             Doctors|\n",
      "|Pns2l4eNsfO8kk83d...|Traditional Chine...|\n",
      "|Pns2l4eNsfO8kk83d...|Naturopathic/Holi...|\n",
      "|Pns2l4eNsfO8kk83d...|         Acupuncture|\n",
      "|Pns2l4eNsfO8kk83d...|    Health & Medical|\n",
      "+--------------------+--------------------+\n",
      "only showing top 5 rows"
     ]
    }
   ],
   "source": [
    "df_cat_exploded = df_cat.withColumn('categories',explode(split('categories',\", \")))\n",
    "df_cat_exploded.show(5)"
   ]
  },
  {
   "cell_type": "markdown",
   "id": "0d0c598a",
   "metadata": {},
   "source": [
    "# Total Unique Categories"
   ]
  },
  {
   "cell_type": "markdown",
   "id": "64649a62",
   "metadata": {},
   "source": [
    "Finally, we are ready to answer the question: **what is the total number of unique categories available?**\n",
    "\n",
    "Below, implement the code necessary to calculate this figure."
   ]
  },
  {
   "cell_type": "code",
   "execution_count": 12,
   "id": "c6c99732",
   "metadata": {},
   "outputs": [
    {
     "data": {
      "application/vnd.jupyter.widget-view+json": {
       "model_id": "a727d7204142458e98592a6c207c3b43",
       "version_major": 2,
       "version_minor": 0
      },
      "text/plain": [
       "VBox()"
      ]
     },
     "metadata": {},
     "output_type": "display_data"
    },
    {
     "data": {
      "application/vnd.jupyter.widget-view+json": {
       "model_id": "",
       "version_major": 2,
       "version_minor": 0
      },
      "text/plain": [
       "FloatProgress(value=0.0, bar_style='info', description='Progress:', layout=Layout(height='25px', width='50%'),…"
      ]
     },
     "metadata": {},
     "output_type": "display_data"
    },
    {
     "name": "stdout",
     "output_type": "stream",
     "text": [
      "1311"
     ]
    }
   ],
   "source": [
    "df_cat_exploded.select('categories').distinct().count()\n"
   ]
  },
  {
   "cell_type": "markdown",
   "id": "8d0c0f03",
   "metadata": {},
   "source": [
    "## Top Categories By Business\n",
    "\n",
    "Now let's find the top categories in this dataset by rolling up categories."
   ]
  },
  {
   "cell_type": "markdown",
   "id": "7849d334",
   "metadata": {},
   "source": [
    "### Counts of Businesses / Category"
   ]
  },
  {
   "cell_type": "markdown",
   "id": "a6712312",
   "metadata": {},
   "source": [
    "So now, let's unroll our distinct count a bit and display the per count value of businesses per category.\n",
    "\n",
    "The expected output should be:\n",
    "\n",
    "| category | count |\n",
    "|-------------|------------|\n",
    "| a     | 15         |\n",
    "| b     | 2          |\n",
    "| c     | 45          |\n",
    "\n",
    "Or something to that effect."
   ]
  },
  {
   "cell_type": "code",
   "execution_count": 13,
   "id": "2f37c9bf",
   "metadata": {},
   "outputs": [
    {
     "data": {
      "application/vnd.jupyter.widget-view+json": {
       "model_id": "4d24a6c213ca482899c695be79c3bbb1",
       "version_major": 2,
       "version_minor": 0
      },
      "text/plain": [
       "VBox()"
      ]
     },
     "metadata": {},
     "output_type": "display_data"
    },
    {
     "data": {
      "application/vnd.jupyter.widget-view+json": {
       "model_id": "",
       "version_major": 2,
       "version_minor": 0
      },
      "text/plain": [
       "FloatProgress(value=0.0, bar_style='info', description='Progress:', layout=Layout(height='25px', width='50%'),…"
      ]
     },
     "metadata": {},
     "output_type": "display_data"
    },
    {
     "name": "stdout",
     "output_type": "stream",
     "text": [
      "+--------------------+-----+\n",
      "|          categories|count|\n",
      "+--------------------+-----+\n",
      "|      Paddleboarding|   98|\n",
      "|      Dermatologists|  336|\n",
      "|         Hobby Shops|  552|\n",
      "|          Bubble Tea|  477|\n",
      "|             Embassy|    3|\n",
      "|             Tanning|  667|\n",
      "|            Handyman|  356|\n",
      "|      Aerial Fitness|   19|\n",
      "|             Falafel|  103|\n",
      "|        Summer Camps|  232|\n",
      "|       Outlet Stores|  182|\n",
      "|     Clothing Rental|   37|\n",
      "|      Sporting Goods| 1662|\n",
      "|     Cooking Schools|   76|\n",
      "|  Lactation Services|   27|\n",
      "|Ski & Snowboard S...|   40|\n",
      "|             Museums|  413|\n",
      "|              Doulas|   31|\n",
      "|                Food|27781|\n",
      "|         Halotherapy|   23|\n",
      "+--------------------+-----+\n",
      "only showing top 20 rows"
     ]
    }
   ],
   "source": [
    "df_cat_grouped=df_cat_exploded.groupby(\"categories\")\n",
    "df_cat_grouped.count().show()"
   ]
  },
  {
   "cell_type": "markdown",
   "id": "d0edd80e",
   "metadata": {},
   "source": [
    "### Bar Chart of Top Categories\n",
    "\n",
    "With this data available, let us now build a barchart of the top 20 categories. \n",
    "\n",
    "**HINT**: don't forget about the matplotlib magic!\n",
    "\n",
    "```\n",
    "%matplot plt\n",
    "```\n",
    "\n",
    "If you want, you can also use seaborn library"
   ]
  },
  {
   "cell_type": "code",
   "execution_count": 14,
   "id": "529ee530",
   "metadata": {},
   "outputs": [
    {
     "data": {
      "application/vnd.jupyter.widget-view+json": {
       "model_id": "f3ec414146804e13a51609f64d21803c",
       "version_major": 2,
       "version_minor": 0
      },
      "text/plain": [
       "VBox()"
      ]
     },
     "metadata": {},
     "output_type": "display_data"
    },
    {
     "data": {
      "application/vnd.jupyter.widget-view+json": {
       "model_id": "",
       "version_major": 2,
       "version_minor": 0
      },
      "text/plain": [
       "FloatProgress(value=0.0, bar_style='info', description='Progress:', layout=Layout(height='25px', width='50%'),…"
      ]
     },
     "metadata": {},
     "output_type": "display_data"
    },
    {
     "name": "stdout",
     "output_type": "stream",
     "text": [
      "+--------------------+-----+\n",
      "|          categories|count|\n",
      "+--------------------+-----+\n",
      "|         Restaurants|52268|\n",
      "|                Food|27781|\n",
      "|            Shopping|24395|\n",
      "|       Home Services|14356|\n",
      "|       Beauty & Spas|14292|\n",
      "|           Nightlife|12281|\n",
      "|    Health & Medical|11890|\n",
      "|      Local Services|11198|\n",
      "|                Bars|11065|\n",
      "|          Automotive|10773|\n",
      "|Event Planning & ...| 9895|\n",
      "|          Sandwiches| 8366|\n",
      "|American (Traditi...| 8139|\n",
      "|         Active Life| 7687|\n",
      "|               Pizza| 7093|\n",
      "|        Coffee & Tea| 6703|\n",
      "|           Fast Food| 6472|\n",
      "|  Breakfast & Brunch| 6239|\n",
      "|      American (New)| 6097|\n",
      "|     Hotels & Travel| 5857|\n",
      "+--------------------+-----+\n",
      "only showing top 20 rows"
     ]
    }
   ],
   "source": [
    "df_cat_top = df_cat_grouped.count().sort(\"count\", ascending = False)\n",
    "df_cat_top.show()"
   ]
  },
  {
   "cell_type": "code",
   "execution_count": 15,
   "id": "d7a0d970",
   "metadata": {},
   "outputs": [
    {
     "data": {
      "application/vnd.jupyter.widget-view+json": {
       "model_id": "a937060b73cc4468b55e4f9f1b701c6f",
       "version_major": 2,
       "version_minor": 0
      },
      "text/plain": [
       "VBox()"
      ]
     },
     "metadata": {},
     "output_type": "display_data"
    },
    {
     "data": {
      "application/vnd.jupyter.widget-view+json": {
       "model_id": "",
       "version_major": 2,
       "version_minor": 0
      },
      "text/plain": [
       "FloatProgress(value=0.0, bar_style='info', description='Progress:', layout=Layout(height='25px', width='50%'),…"
      ]
     },
     "metadata": {},
     "output_type": "display_data"
    },
    {
     "name": "stdout",
     "output_type": "stream",
     "text": [
      "                   categories  count\n",
      "0                 Restaurants  52268\n",
      "1                        Food  27781\n",
      "2                    Shopping  24395\n",
      "3               Home Services  14356\n",
      "4               Beauty & Spas  14292\n",
      "5                   Nightlife  12281\n",
      "6            Health & Medical  11890\n",
      "7              Local Services  11198\n",
      "8                        Bars  11065\n",
      "9                  Automotive  10773\n",
      "10  Event Planning & Services   9895\n",
      "11                 Sandwiches   8366\n",
      "12     American (Traditional)   8139\n",
      "13                Active Life   7687\n",
      "14                      Pizza   7093\n",
      "15               Coffee & Tea   6703\n",
      "16                  Fast Food   6472\n",
      "17         Breakfast & Brunch   6239\n",
      "18             American (New)   6097\n",
      "19            Hotels & Travel   5857"
     ]
    }
   ],
   "source": [
    "bar_df=df_cat_top.toPandas()\n",
    "bar_df[0:20]"
   ]
  },
  {
   "cell_type": "code",
   "execution_count": 16,
   "id": "22a91783",
   "metadata": {},
   "outputs": [
    {
     "data": {
      "application/vnd.jupyter.widget-view+json": {
       "model_id": "856b687993044c9b9a8b997c560c4a6b",
       "version_major": 2,
       "version_minor": 0
      },
      "text/plain": [
       "VBox()"
      ]
     },
     "metadata": {},
     "output_type": "display_data"
    },
    {
     "data": {
      "application/vnd.jupyter.widget-view+json": {
       "model_id": "",
       "version_major": 2,
       "version_minor": 0
      },
      "text/plain": [
       "FloatProgress(value=0.0, bar_style='info', description='Progress:', layout=Layout(height='25px', width='50%'),…"
      ]
     },
     "metadata": {},
     "output_type": "display_data"
    },
    {
     "data": {
      "image/png": "[encoded data removed]",
      "text/plain": [
       "<IPython.core.display.Image object>"
      ]
     },
     "metadata": {},
     "output_type": "display_data"
    }
   ],
   "source": [
    "plt.figure(figsize =(10,6))\n",
    "bar_df[0:20].plot(kind='bar', x='categories', figsize =(10,6))\n",
    "%matplot plt"
   ]
  },
  {
   "cell_type": "markdown",
   "id": "92ae5f22",
   "metadata": {},
   "source": [
    "## Loading User Data\n",
    "\n",
    "Begin by loading the user data set from S3 and printing schema to determine what data is available. `s3://cis9760-yelpdataset/yelp-light/*review.json`"
   ]
  },
  {
   "cell_type": "code",
   "execution_count": 17,
   "id": "d148683a",
   "metadata": {},
   "outputs": [
    {
     "data": {
      "application/vnd.jupyter.widget-view+json": {
       "model_id": "6b61b5c5297848ac895685188a9b5cf3",
       "version_major": 2,
       "version_minor": 0
      },
      "text/plain": [
       "VBox()"
      ]
     },
     "metadata": {},
     "output_type": "display_data"
    },
    {
     "data": {
      "application/vnd.jupyter.widget-view+json": {
       "model_id": "",
       "version_major": 2,
       "version_minor": 0
      },
      "text/plain": [
       "FloatProgress(value=0.0, bar_style='info', description='Progress:', layout=Layout(height='25px', width='50%'),…"
      ]
     },
     "metadata": {},
     "output_type": "display_data"
    }
   ],
   "source": [
    "review_df = spark.read.json('s3://cis9760-emr-bucket/yelp_academic_dataset_review.json')"
   ]
  },
  {
   "cell_type": "code",
   "execution_count": 18,
   "id": "3d5fd596",
   "metadata": {},
   "outputs": [
    {
     "data": {
      "application/vnd.jupyter.widget-view+json": {
       "model_id": "062f986953b74d3983efc42020765c51",
       "version_major": 2,
       "version_minor": 0
      },
      "text/plain": [
       "VBox()"
      ]
     },
     "metadata": {},
     "output_type": "display_data"
    },
    {
     "data": {
      "application/vnd.jupyter.widget-view+json": {
       "model_id": "",
       "version_major": 2,
       "version_minor": 0
      },
      "text/plain": [
       "FloatProgress(value=0.0, bar_style='info', description='Progress:', layout=Layout(height='25px', width='50%'),…"
      ]
     },
     "metadata": {},
     "output_type": "display_data"
    },
    {
     "name": "stdout",
     "output_type": "stream",
     "text": [
      "root\n",
      " |-- business_id: string (nullable = true)\n",
      " |-- cool: long (nullable = true)\n",
      " |-- date: string (nullable = true)\n",
      " |-- funny: long (nullable = true)\n",
      " |-- review_id: string (nullable = true)\n",
      " |-- stars: double (nullable = true)\n",
      " |-- text: string (nullable = true)\n",
      " |-- useful: long (nullable = true)\n",
      " |-- user_id: string (nullable = true)"
     ]
    }
   ],
   "source": [
    "review_df.printSchema()"
   ]
  },
  {
   "cell_type": "markdown",
   "id": "452fa31b",
   "metadata": {},
   "source": [
    "Let's begin by listing the `business_id` and `stars` columns together for the user reviews data."
   ]
  },
  {
   "cell_type": "code",
   "execution_count": 19,
   "id": "a523694d",
   "metadata": {},
   "outputs": [
    {
     "data": {
      "application/vnd.jupyter.widget-view+json": {
       "model_id": "2150eab4be3a414fa42589e636696c95",
       "version_major": 2,
       "version_minor": 0
      },
      "text/plain": [
       "VBox()"
      ]
     },
     "metadata": {},
     "output_type": "display_data"
    },
    {
     "data": {
      "application/vnd.jupyter.widget-view+json": {
       "model_id": "",
       "version_major": 2,
       "version_minor": 0
      },
      "text/plain": [
       "FloatProgress(value=0.0, bar_style='info', description='Progress:', layout=Layout(height='25px', width='50%'),…"
      ]
     },
     "metadata": {},
     "output_type": "display_data"
    },
    {
     "name": "stdout",
     "output_type": "stream",
     "text": [
      "+--------------------+-----+\n",
      "|         business_id|stars|\n",
      "+--------------------+-----+\n",
      "|XQfwVwDr-v0ZS3_Cb...|  3.0|\n",
      "|7ATYjTIgM3jUlt4UM...|  5.0|\n",
      "|YjUWPpI6HXG530lwP...|  3.0|\n",
      "|kxX2SOes4o-D3ZQBk...|  5.0|\n",
      "|e4Vwtrqf-wpJfwesg...|  4.0|\n",
      "+--------------------+-----+\n",
      "only showing top 5 rows"
     ]
    }
   ],
   "source": [
    "review_df.select(\"business_id\", \"stars\").show(5)"
   ]
  },
  {
   "cell_type": "markdown",
   "id": "dc41a14e",
   "metadata": {},
   "source": [
    "Now, let's aggregate along the `stars` column to get a resultant dataframe that displays _average stars_ per business as accumulated by users who **took the time to submit a written review**."
   ]
  },
  {
   "cell_type": "code",
   "execution_count": 20,
   "id": "04eb5bac",
   "metadata": {},
   "outputs": [
    {
     "data": {
      "application/vnd.jupyter.widget-view+json": {
       "model_id": "297121bbe3524b4290be1c6265348813",
       "version_major": 2,
       "version_minor": 0
      },
      "text/plain": [
       "VBox()"
      ]
     },
     "metadata": {},
     "output_type": "display_data"
    },
    {
     "data": {
      "application/vnd.jupyter.widget-view+json": {
       "model_id": "",
       "version_major": 2,
       "version_minor": 0
      },
      "text/plain": [
       "FloatProgress(value=0.0, bar_style='info', description='Progress:', layout=Layout(height='25px', width='50%'),…"
      ]
     },
     "metadata": {},
     "output_type": "display_data"
    },
    {
     "name": "stdout",
     "output_type": "stream",
     "text": [
      "+--------------------+------------------+\n",
      "|         business_id|        avg(stars)|\n",
      "+--------------------+------------------+\n",
      "|zJErbOQMKX-MwHs_u...|2.9279279279279278|\n",
      "|RZ-FNTXvqHKngyLGD...|2.8823529411764706|\n",
      "|HSzSGdcNaU7heQe0N...|3.3333333333333335|\n",
      "|skW4boArIApRw9DXK...|2.3947368421052633|\n",
      "|I0053JmJ5DEFUWSJ8...|2.3956043956043955|\n",
      "+--------------------+------------------+\n",
      "only showing top 5 rows"
     ]
    }
   ],
   "source": [
    "from pyspark.sql.functions import mean\n",
    "review_avgstar = review_df.select(\"business_id\", \"stars\") \\\n",
    "    .groupBy(\"business_id\") \\\n",
    "    .agg(mean('stars').alias(\"avg(stars)\")) \n",
    "review_avgstar.show(5)    "
   ]
  },
  {
   "cell_type": "markdown",
   "id": "b9d9d81b",
   "metadata": {},
   "source": [
    "Now the fun part - let's join our two dataframes (reviews and business data) by `business_id`. "
   ]
  },
  {
   "cell_type": "code",
   "execution_count": 21,
   "id": "66297946",
   "metadata": {},
   "outputs": [
    {
     "data": {
      "application/vnd.jupyter.widget-view+json": {
       "model_id": "f8fb6689d4c541f68b00023cd758a277",
       "version_major": 2,
       "version_minor": 0
      },
      "text/plain": [
       "VBox()"
      ]
     },
     "metadata": {},
     "output_type": "display_data"
    },
    {
     "data": {
      "application/vnd.jupyter.widget-view+json": {
       "model_id": "",
       "version_major": 2,
       "version_minor": 0
      },
      "text/plain": [
       "FloatProgress(value=0.0, bar_style='info', description='Progress:', layout=Layout(height='25px', width='50%'),…"
      ]
     },
     "metadata": {},
     "output_type": "display_data"
    }
   ],
   "source": [
    "df_bus = df.select(\"business_id\", \"name\", \"city\", \"state\", \"stars\")\n",
    "rv_bus = df_bus.join(review_avgstar, df_bus.business_id == review_avgstar.business_id)"
   ]
  },
  {
   "cell_type": "markdown",
   "id": "6e6f4f13",
   "metadata": {},
   "source": [
    "Let's see a few of these:"
   ]
  },
  {
   "cell_type": "code",
   "execution_count": 22,
   "id": "4f20608f",
   "metadata": {},
   "outputs": [
    {
     "data": {
      "application/vnd.jupyter.widget-view+json": {
       "model_id": "71fdc0f619874985b473004f028b3b12",
       "version_major": 2,
       "version_minor": 0
      },
      "text/plain": [
       "VBox()"
      ]
     },
     "metadata": {},
     "output_type": "display_data"
    },
    {
     "data": {
      "application/vnd.jupyter.widget-view+json": {
       "model_id": "",
       "version_major": 2,
       "version_minor": 0
      },
      "text/plain": [
       "FloatProgress(value=0.0, bar_style='info', description='Progress:', layout=Layout(height='25px', width='50%'),…"
      ]
     },
     "metadata": {},
     "output_type": "display_data"
    },
    {
     "name": "stdout",
     "output_type": "stream",
     "text": [
      "+--------------------+------------+-----+------------------+-----+\n",
      "|                name|        city|state|        avg(stars)|stars|\n",
      "+--------------------+------------+-----+------------------+-----+\n",
      "|Philadelphia Marr...|Philadelphia|   PA|2.9279279279279278|  3.0|\n",
      "|Gaetano's of West...| West Berlin|   NJ|2.8823529411764706|  3.0|\n",
      "|Gillane's Bar & G...|     Ardmore|   PA|3.3333333333333335|  3.0|\n",
      "|Champps Penn's La...|Philadelphia|   PA|2.3947368421052633|  2.5|\n",
      "|Golden Corral Buf...|      Tucson|   AZ|2.3956043956043955|  2.5|\n",
      "+--------------------+------------+-----+------------------+-----+\n",
      "only showing top 5 rows"
     ]
    }
   ],
   "source": [
    "rv_bus.select(\"name\", \"city\", \"state\", \"avg(stars)\", \"stars\").show(5)"
   ]
  },
  {
   "cell_type": "markdown",
   "id": "765bcea0",
   "metadata": {},
   "source": [
    "Compute a new dataframe that calculates what we will call the _skew_ (for lack of a better word) between the avg stars accumulated from written reviews and the _actual_ star rating of a business (ie: the average of stars given by reviewers who wrote an actual review **and** reviewers who just provided a star rating).\n",
    "\n",
    "The formula you can use is something like:\n",
    "\n",
    "```\n",
    "(row['avg(stars)'] - row['stars']) / row['stars']\n",
    "```\n",
    "\n",
    "If the **skew** is negative, we can interpret that to be: reviewers who left a written response were more dissatisfied than normal. If **skew** is positive, we can interpret that to be: reviewers who left a written response were more satisfied than normal."
   ]
  },
  {
   "cell_type": "code",
   "execution_count": 23,
   "id": "a1c8af9a",
   "metadata": {},
   "outputs": [
    {
     "data": {
      "application/vnd.jupyter.widget-view+json": {
       "model_id": "5ae62a97340e4a60803cb97370737bbf",
       "version_major": 2,
       "version_minor": 0
      },
      "text/plain": [
       "VBox()"
      ]
     },
     "metadata": {},
     "output_type": "display_data"
    },
    {
     "data": {
      "application/vnd.jupyter.widget-view+json": {
       "model_id": "",
       "version_major": 2,
       "version_minor": 0
      },
      "text/plain": [
       "FloatProgress(value=0.0, bar_style='info', description='Progress:', layout=Layout(height='25px', width='50%'),…"
      ]
     },
     "metadata": {},
     "output_type": "display_data"
    }
   ],
   "source": [
    "from pyspark.sql.functions import col\n",
    "rv_bus=rv_bus.withColumn(\"skew\", (col('avg(stars)')- col('stars')) / col('stars'))"
   ]
  },
  {
   "cell_type": "code",
   "execution_count": 24,
   "id": "e35d46f5",
   "metadata": {},
   "outputs": [
    {
     "data": {
      "application/vnd.jupyter.widget-view+json": {
       "model_id": "20f38848aca740f29a5027e3913e2582",
       "version_major": 2,
       "version_minor": 0
      },
      "text/plain": [
       "VBox()"
      ]
     },
     "metadata": {},
     "output_type": "display_data"
    },
    {
     "data": {
      "application/vnd.jupyter.widget-view+json": {
       "model_id": "",
       "version_major": 2,
       "version_minor": 0
      },
      "text/plain": [
       "FloatProgress(value=0.0, bar_style='info', description='Progress:', layout=Layout(height='25px', width='50%'),…"
      ]
     },
     "metadata": {},
     "output_type": "display_data"
    },
    {
     "name": "stdout",
     "output_type": "stream",
     "text": [
      "+--------------------+------------+-----+------------------+-----+--------------------+\n",
      "|                name|        city|state|        avg(stars)|stars|                skew|\n",
      "+--------------------+------------+-----+------------------+-----+--------------------+\n",
      "|Gillane's Bar & G...|     Ardmore|   PA|3.3333333333333335|  3.0| 0.11111111111111116|\n",
      "|Champps Penn's La...|Philadelphia|   PA|2.3947368421052633|  2.5|-0.04210526315789469|\n",
      "|Philadelphia Marr...|Philadelphia|   PA|2.9279279279279278|  3.0|-0.02402402402402...|\n",
      "|Golden Corral Buf...|      Tucson|   AZ|2.3956043956043955|  2.5|-0.04175824175824179|\n",
      "|  Swiss Watch Center|       Tampa|   FL| 3.357142857142857|  3.5|-0.04081632653061223|\n",
      "+--------------------+------------+-----+------------------+-----+--------------------+\n",
      "only showing top 5 rows"
     ]
    }
   ],
   "source": [
    "rv_bus.select(\"name\", \"city\", \"state\", \"avg(stars)\", \"stars\", \"skew\").show(5)"
   ]
  },
  {
   "cell_type": "code",
   "execution_count": 25,
   "id": "a672af3a",
   "metadata": {},
   "outputs": [
    {
     "data": {
      "application/vnd.jupyter.widget-view+json": {
       "model_id": "adbcccf4966c4c3d8029b4dfe4d3584f",
       "version_major": 2,
       "version_minor": 0
      },
      "text/plain": [
       "VBox()"
      ]
     },
     "metadata": {},
     "output_type": "display_data"
    },
    {
     "data": {
      "application/vnd.jupyter.widget-view+json": {
       "model_id": "",
       "version_major": 2,
       "version_minor": 0
      },
      "text/plain": [
       "FloatProgress(value=0.0, bar_style='info', description='Progress:', layout=Layout(height='25px', width='50%'),…"
      ]
     },
     "metadata": {},
     "output_type": "display_data"
    }
   ],
   "source": [
    "rv_bus_df = rv_bus.toPandas()"
   ]
  },
  {
   "cell_type": "markdown",
   "id": "a3079e27",
   "metadata": {},
   "source": [
    "And finally, graph it!"
   ]
  },
  {
   "cell_type": "code",
   "execution_count": 26,
   "id": "5a1a7f2c",
   "metadata": {},
   "outputs": [
    {
     "data": {
      "application/vnd.jupyter.widget-view+json": {
       "model_id": "8dfb0026c2bb4cba868ca23596e65420",
       "version_major": 2,
       "version_minor": 0
      },
      "text/plain": [
       "VBox()"
      ]
     },
     "metadata": {},
     "output_type": "display_data"
    },
    {
     "data": {
      "application/vnd.jupyter.widget-view+json": {
       "model_id": "",
       "version_major": 2,
       "version_minor": 0
      },
      "text/plain": [
       "FloatProgress(value=0.0, bar_style='info', description='Progress:', layout=Layout(height='25px', width='50%'),…"
      ]
     },
     "metadata": {},
     "output_type": "display_data"
    },
    {
     "data": {
      "image/png": "[encoded data removed]",
      "text/plain": [
       "<IPython.core.display.Image object>"
      ]
     },
     "metadata": {},
     "output_type": "display_data"
    }
   ],
   "source": [
    "plt.figure(figsize =(18,6))\n",
    "sns.distplot(rv_bus_df[\"skew\"], axlabel = \"Skew\", kde = True).set(title = \"Yelp Review Skew\")\n",
    "%matplot plt"
   ]
  },
  {
   "cell_type": "markdown",
   "id": "4d4e14f4",
   "metadata": {},
   "source": [
    "So, do Yelp (written) Reviews skew negative? Does this analysis actually prove anything? Expound on implications / interpretations of this graph. "
   ]
  },
  {
   "cell_type": "markdown",
   "id": "79ee4874",
   "metadata": {},
   "source": [
    "### IMPLICATIONS"
   ]
  },
  {
   "cell_type": "markdown",
   "id": "9c0ad9fb",
   "metadata": {},
   "source": [
    "**Type your answer here:** \n",
    "    As the graph shows, denisty on the left side is greater than one on the right side, which means that there are more negative Yelp (written) Reviews skews than the positive ones. So at this point, we can interpret that reviewers who left a written response were more dissatisfied than normal."
   ]
  },
  {
   "cell_type": "markdown",
   "id": "c7c74345",
   "metadata": {},
   "source": [
    "# Should the Elite be Trusted?"
   ]
  },
  {
   "cell_type": "markdown",
   "id": "ed348510",
   "metadata": {},
   "source": [
    "How accurate or close are the ratings of an \"elite\" user (check Users table schema) vs the actual business rating? `s3://cis9760-yelpdataset/yelp-light/*user.json`\n",
    "\n",
    "Feel free to use any and all methodologies at your disposal. \n",
    "You must render one visualization in your analysis and interpret your findings."
   ]
  },
  {
   "cell_type": "code",
   "execution_count": 27,
   "id": "f1e11db3",
   "metadata": {},
   "outputs": [
    {
     "data": {
      "application/vnd.jupyter.widget-view+json": {
       "model_id": "b9e2738c9b30429b82b51c3d6eebca0f",
       "version_major": 2,
       "version_minor": 0
      },
      "text/plain": [
       "VBox()"
      ]
     },
     "metadata": {},
     "output_type": "display_data"
    },
    {
     "data": {
      "application/vnd.jupyter.widget-view+json": {
       "model_id": "",
       "version_major": 2,
       "version_minor": 0
      },
      "text/plain": [
       "FloatProgress(value=0.0, bar_style='info', description='Progress:', layout=Layout(height='25px', width='50%'),…"
      ]
     },
     "metadata": {},
     "output_type": "display_data"
    }
   ],
   "source": [
    "user_df = spark.read.json('s3://cis9760-emr-bucket/yelp_academic_dataset_user.json')"
   ]
  },
  {
   "cell_type": "code",
   "execution_count": 28,
   "id": "67c012e6",
   "metadata": {},
   "outputs": [
    {
     "data": {
      "application/vnd.jupyter.widget-view+json": {
       "model_id": "9970353e6f0d4a70b16a250dee20ef8f",
       "version_major": 2,
       "version_minor": 0
      },
      "text/plain": [
       "VBox()"
      ]
     },
     "metadata": {},
     "output_type": "display_data"
    },
    {
     "data": {
      "application/vnd.jupyter.widget-view+json": {
       "model_id": "",
       "version_major": 2,
       "version_minor": 0
      },
      "text/plain": [
       "FloatProgress(value=0.0, bar_style='info', description='Progress:', layout=Layout(height='25px', width='50%'),…"
      ]
     },
     "metadata": {},
     "output_type": "display_data"
    },
    {
     "name": "stdout",
     "output_type": "stream",
     "text": [
      "root\n",
      " |-- average_stars: double (nullable = true)\n",
      " |-- compliment_cool: long (nullable = true)\n",
      " |-- compliment_cute: long (nullable = true)\n",
      " |-- compliment_funny: long (nullable = true)\n",
      " |-- compliment_hot: long (nullable = true)\n",
      " |-- compliment_list: long (nullable = true)\n",
      " |-- compliment_more: long (nullable = true)\n",
      " |-- compliment_note: long (nullable = true)\n",
      " |-- compliment_photos: long (nullable = true)\n",
      " |-- compliment_plain: long (nullable = true)\n",
      " |-- compliment_profile: long (nullable = true)\n",
      " |-- compliment_writer: long (nullable = true)\n",
      " |-- cool: long (nullable = true)\n",
      " |-- elite: string (nullable = true)\n",
      " |-- fans: long (nullable = true)\n",
      " |-- friends: string (nullable = true)\n",
      " |-- funny: long (nullable = true)\n",
      " |-- name: string (nullable = true)\n",
      " |-- review_count: long (nullable = true)\n",
      " |-- useful: long (nullable = true)\n",
      " |-- user_id: string (nullable = true)\n",
      " |-- yelping_since: string (nullable = true)"
     ]
    }
   ],
   "source": [
    "user_df.printSchema()"
   ]
  },
  {
   "cell_type": "code",
   "execution_count": 29,
   "id": "9d4d6061",
   "metadata": {},
   "outputs": [
    {
     "data": {
      "application/vnd.jupyter.widget-view+json": {
       "model_id": "8d40503b1b5c4a51b1f4a3d5ed6e6947",
       "version_major": 2,
       "version_minor": 0
      },
      "text/plain": [
       "VBox()"
      ]
     },
     "metadata": {},
     "output_type": "display_data"
    },
    {
     "data": {
      "application/vnd.jupyter.widget-view+json": {
       "model_id": "",
       "version_major": 2,
       "version_minor": 0
      },
      "text/plain": [
       "FloatProgress(value=0.0, bar_style='info', description='Progress:', layout=Layout(height='25px', width='50%'),…"
      ]
     },
     "metadata": {},
     "output_type": "display_data"
    },
    {
     "name": "stdout",
     "output_type": "stream",
     "text": [
      "['average_stars', 'compliment_cool', 'compliment_cute', 'compliment_funny', 'compliment_hot', 'compliment_list', 'compliment_more', 'compliment_note', 'compliment_photos', 'compliment_plain', 'compliment_profile', 'compliment_writer', 'cool', 'elite', 'fans', 'friends', 'funny', 'name', 'review_count', 'useful', 'user_id', 'yelping_since', 'business_id', 'cool', 'date', 'funny', 'review_id', 'stars', 'text', 'useful', 'user_id']"
     ]
    }
   ],
   "source": [
    "user_review = user_df.join(review_df, user_df.user_id == review_df.user_id)\n",
    "user_review.columns"
   ]
  },
  {
   "cell_type": "code",
   "execution_count": 41,
   "id": "80c00c9f",
   "metadata": {},
   "outputs": [
    {
     "data": {
      "application/vnd.jupyter.widget-view+json": {
       "model_id": "041f097402d4402aac0f39eb2e9be731",
       "version_major": 2,
       "version_minor": 0
      },
      "text/plain": [
       "VBox()"
      ]
     },
     "metadata": {},
     "output_type": "display_data"
    },
    {
     "data": {
      "application/vnd.jupyter.widget-view+json": {
       "model_id": "",
       "version_major": 2,
       "version_minor": 0
      },
      "text/plain": [
       "FloatProgress(value=0.0, bar_style='info', description='Progress:', layout=Layout(height='25px', width='50%'),…"
      ]
     },
     "metadata": {},
     "output_type": "display_data"
    },
    {
     "name": "stdout",
     "output_type": "stream",
     "text": [
      "+--------------------+------------------+\n",
      "|         business_id|        avg(stars)|\n",
      "+--------------------+------------------+\n",
      "|C9KvsTqi617Yg_sNj...| 4.510204081632653|\n",
      "|wopwoiKIllIzcggK7...| 3.205521472392638|\n",
      "|yqq1Fvt7WtduIO3Gw...|2.9473684210526314|\n",
      "|3FKIev7ZB_KE6XHL9...|3.8637362637362638|\n",
      "|nC-dCuPytssHAaMkA...|               3.4|\n",
      "+--------------------+------------------+\n",
      "only showing top 5 rows"
     ]
    }
   ],
   "source": [
    "#Average stars for each business_id\n",
    "from pyspark.sql.functions import mean\n",
    "busrating = user_review.select(\"business_id\", \"stars\") \\\n",
    "    .groupBy(\"business_id\") \\\n",
    "    .agg(mean('stars').alias(\"avg(stars)\")) \n",
    "busrating.show(5)    "
   ]
  },
  {
   "cell_type": "code",
   "execution_count": 43,
   "id": "b5628a41",
   "metadata": {},
   "outputs": [
    {
     "data": {
      "application/vnd.jupyter.widget-view+json": {
       "model_id": "610e2798085248b9bfb715112b25ac60",
       "version_major": 2,
       "version_minor": 0
      },
      "text/plain": [
       "VBox()"
      ]
     },
     "metadata": {},
     "output_type": "display_data"
    },
    {
     "data": {
      "application/vnd.jupyter.widget-view+json": {
       "model_id": "",
       "version_major": 2,
       "version_minor": 0
      },
      "text/plain": [
       "FloatProgress(value=0.0, bar_style='info', description='Progress:', layout=Layout(height='25px', width='50%'),…"
      ]
     },
     "metadata": {},
     "output_type": "display_data"
    },
    {
     "name": "stdout",
     "output_type": "stream",
     "text": [
      "+--------------------+-----+--------------------+\n",
      "|             user_id|stars|         business_id|\n",
      "+--------------------+-----+--------------------+\n",
      "|IeSz60ozr1yAVIH8C...|  4.0|TV81bpCQ6p6o4Hau5...|\n",
      "|xW2A0MciHB0pLB4RH...|  5.0|W4ZEKkva9HpAdZG88...|\n",
      "|SSafXe2aUO0cXgQhE...|  5.0|E-4t5Hoon6aVFTWDP...|\n",
      "|yiYUEExKfZEv_T8CF...|  3.0|_pbx96FZ3eHJw-V_R...|\n",
      "|A3EiqW7_k00gvaiQi...|  5.0|8uF-bhJFgT4Tn6DTb...|\n",
      "|Zsucq1c-sjuGxs5jZ...|  4.0|zaC6coZ5Gp8mLjeg7...|\n",
      "|aX3vDE1UmbdrWeOsg...|  5.0|EqEcDeXqIq1YwnzHg...|\n",
      "|aHiQYaTXrmQTeG610...|  4.0|3w7NRntdQ9h0KwDsk...|\n",
      "|g34Qcj06LmCDhKzks...|  5.0|yE1raqkLX7OZsjmX3...|\n",
      "|yiYUEExKfZEv_T8CF...|  4.0|EP2jFD3aGoSBCWb7i...|\n",
      "|OTG7-L3N4geWEB_0q...|  4.0|hS6KNGCQVTYUdLb2e...|\n",
      "|xHU37ocClTtu1rS4L...|  5.0|uW8L6awmCyjovD9Oh...|\n",
      "|wwoLHw7FX0CaeOmw1...|  4.0|6kAXOzE7fqaBZINQV...|\n",
      "|Zsucq1c-sjuGxs5jZ...|  5.0|yLIn3po-fKb0T3UIo...|\n",
      "|417svAEVHreK6c3SK...|  3.0|oQ5CPRt0R3AzFvcjN...|\n",
      "|qCNZXu0nA1m9_qQDS...|  3.0|psI9u_iVuWFcchWhe...|\n",
      "|wwoLHw7FX0CaeOmw1...|  5.0|wzE61ThXOdrSegvwS...|\n",
      "|Zsucq1c-sjuGxs5jZ...|  4.0|z6SVTb9eFIcWVpKXI...|\n",
      "|Zsucq1c-sjuGxs5jZ...|  5.0|hdVqM-QngiiLRaMOv...|\n",
      "|Zsucq1c-sjuGxs5jZ...|  4.0|kPG6r0h73sPgXBei0...|\n",
      "+--------------------+-----+--------------------+\n",
      "only showing top 20 rows"
     ]
    }
   ],
   "source": [
    "#Elite users' stars on each business_id\n",
    "usersrating = user_review.select(user_df.user_id, \"stars\", \"business_id\") \\\n",
    "    .filter(user_review.elite != \"\")\n",
    "usersrating.show()"
   ]
  },
  {
   "cell_type": "code",
   "execution_count": 45,
   "id": "add423e6",
   "metadata": {},
   "outputs": [
    {
     "data": {
      "application/vnd.jupyter.widget-view+json": {
       "model_id": "0a79bdd528f84dd9b2f3dbd3b4db93eb",
       "version_major": 2,
       "version_minor": 0
      },
      "text/plain": [
       "VBox()"
      ]
     },
     "metadata": {},
     "output_type": "display_data"
    },
    {
     "data": {
      "application/vnd.jupyter.widget-view+json": {
       "model_id": "",
       "version_major": 2,
       "version_minor": 0
      },
      "text/plain": [
       "FloatProgress(value=0.0, bar_style='info', description='Progress:', layout=Layout(height='25px', width='50%'),…"
      ]
     },
     "metadata": {},
     "output_type": "display_data"
    },
    {
     "name": "stdout",
     "output_type": "stream",
     "text": [
      "+--------------------+-----+--------------------+--------------------+-----------------+\n",
      "|             user_id|stars|         business_id|         business_id|       avg(stars)|\n",
      "+--------------------+-----+--------------------+--------------------+-----------------+\n",
      "|fen9BWC39ul9SJZfQ...|  4.0|--gJkxbsiSIwsQKbi...|--gJkxbsiSIwsQKbi...|4.833333333333333|\n",
      "|7jOaJw3txVFlkHB7Y...|  5.0|-02xFuruu85XmDn2x...|-02xFuruu85XmDn2x...| 4.68595041322314|\n",
      "|_VZlDBtCT_Qb3_OOT...|  5.0|-02xFuruu85XmDn2x...|-02xFuruu85XmDn2x...| 4.68595041322314|\n",
      "|EO7u_L1_ZgRdawMrb...|  5.0|-02xFuruu85XmDn2x...|-02xFuruu85XmDn2x...| 4.68595041322314|\n",
      "|2gyrlO8oOuGf5JMOe...|  5.0|-02xFuruu85XmDn2x...|-02xFuruu85XmDn2x...| 4.68595041322314|\n",
      "|mmSvRe11vbz3XTXw5...|  5.0|-02xFuruu85XmDn2x...|-02xFuruu85XmDn2x...| 4.68595041322314|\n",
      "|UtpU2qK1p1rmAZpwr...|  5.0|-02xFuruu85XmDn2x...|-02xFuruu85XmDn2x...| 4.68595041322314|\n",
      "|Mu5xg6ZESWCp3rnry...|  5.0|-02xFuruu85XmDn2x...|-02xFuruu85XmDn2x...| 4.68595041322314|\n",
      "|I06gY9An4o81XpejL...|  5.0|-02xFuruu85XmDn2x...|-02xFuruu85XmDn2x...| 4.68595041322314|\n",
      "|x2dkFstjm-FmOOoIU...|  3.0|-02xFuruu85XmDn2x...|-02xFuruu85XmDn2x...| 4.68595041322314|\n",
      "|OA_9Ucc5N-60vtA6i...|  5.0|-02xFuruu85XmDn2x...|-02xFuruu85XmDn2x...| 4.68595041322314|\n",
      "|Q4_GklBdHkKaFnRul...|  5.0|-02xFuruu85XmDn2x...|-02xFuruu85XmDn2x...| 4.68595041322314|\n",
      "|pOi89mLu4ivFmcoxM...|  5.0|-02xFuruu85XmDn2x...|-02xFuruu85XmDn2x...| 4.68595041322314|\n",
      "|xfSiMtuhrlZNszvU2...|  5.0|-02xFuruu85XmDn2x...|-02xFuruu85XmDn2x...| 4.68595041322314|\n",
      "|LSHCv3YfKbHWzpWbY...|  5.0|-02xFuruu85XmDn2x...|-02xFuruu85XmDn2x...| 4.68595041322314|\n",
      "|ewjyi395faeIo22Ef...|  5.0|-02xFuruu85XmDn2x...|-02xFuruu85XmDn2x...| 4.68595041322314|\n",
      "|wqeGcKWbtQLyavwtq...|  5.0|-02xFuruu85XmDn2x...|-02xFuruu85XmDn2x...| 4.68595041322314|\n",
      "|eWt6gxEaLt6iH8qS7...|  5.0|-02xFuruu85XmDn2x...|-02xFuruu85XmDn2x...| 4.68595041322314|\n",
      "|DdPEm9nl_5zxrzGNa...|  5.0|-02xFuruu85XmDn2x...|-02xFuruu85XmDn2x...| 4.68595041322314|\n",
      "|Z1z2CuqvlgrLkme_8...|  5.0|-02xFuruu85XmDn2x...|-02xFuruu85XmDn2x...| 4.68595041322314|\n",
      "+--------------------+-----+--------------------+--------------------+-----------------+\n",
      "only showing top 20 rows"
     ]
    }
   ],
   "source": [
    "#Join them\n",
    "users_bus = usersrating.join(busrating, usersrating.business_id == busrating.business_id)\n",
    "users_bus.show()"
   ]
  },
  {
   "cell_type": "code",
   "execution_count": 49,
   "id": "25a21f34",
   "metadata": {},
   "outputs": [
    {
     "data": {
      "application/vnd.jupyter.widget-view+json": {
       "model_id": "c313fa8a00bf454f9de01726ce3f63b5",
       "version_major": 2,
       "version_minor": 0
      },
      "text/plain": [
       "VBox()"
      ]
     },
     "metadata": {},
     "output_type": "display_data"
    },
    {
     "data": {
      "application/vnd.jupyter.widget-view+json": {
       "model_id": "",
       "version_major": 2,
       "version_minor": 0
      },
      "text/plain": [
       "FloatProgress(value=0.0, bar_style='info', description='Progress:', layout=Layout(height='25px', width='50%'),…"
      ]
     },
     "metadata": {},
     "output_type": "display_data"
    },
    {
     "name": "stdout",
     "output_type": "stream",
     "text": [
      "+--------------------+-----+--------------------+--------------------+------------------+------------------+\n",
      "|             user_id|stars|         business_id|         business_id|        avg(stars)|        stars_diff|\n",
      "+--------------------+-----+--------------------+--------------------+------------------+------------------+\n",
      "|CYsL9QLOpuucO-vJJ...|  5.0|CxmqP1eRI1g4TNnzZ...|CxmqP1eRI1g4TNnzZ...|1.0597014925373134|3.9402985074626864|\n",
      "|MmEYowrsA4j3K4gc9...|  5.0|Rmhr3u3Bb5XQReVXl...|Rmhr3u3Bb5XQReVXl...|               1.1|               3.9|\n",
      "|QJI9OSEn6ujRCtrX0...|  5.0|O_op1voFpnHEHho-2...|O_op1voFpnHEHho-2...|1.1481481481481481| 3.851851851851852|\n",
      "|IB2Zyn6ak7wt4YN-j...|  5.0|SodX2x5WpHYetiVEL...|SodX2x5WpHYetiVEL...|1.1626794258373205|3.8373205741626792|\n",
      "|Vwslifegl59fQVOe5...|  5.0|LQvZUpDkm07K5UE8K...|LQvZUpDkm07K5UE8K...|1.1756756756756757|3.8243243243243246|\n",
      "|jEcSGHkE31zEGt7p_...|  5.0|DuB7UztTWu1eDfEaB...|DuB7UztTWu1eDfEaB...|1.1851851851851851| 3.814814814814815|\n",
      "|YcSDGPRj-cmmadlaJ...|  5.0|vQkKg1-VdfQ7bSEak...|vQkKg1-VdfQ7bSEak...|1.1870503597122302|  3.81294964028777|\n",
      "|M2NS_aQbMY2apoYjT...|  5.0|fiCL0hm0we0CwrCgq...|fiCL0hm0we0CwrCgq...|1.1911764705882353|3.8088235294117645|\n",
      "|hleaFrDFA-KMjJRNC...|  5.0|lvIu-fkVRJqUzVRFz...|lvIu-fkVRJqUzVRFz...|1.1923076923076923|3.8076923076923075|\n",
      "|JcV5Lyi9QMwjWET4S...|  5.0|mVsJDGFG34fgI2Ezc...|mVsJDGFG34fgI2Ezc...|1.1944444444444444|3.8055555555555554|\n",
      "|ZRTjFsqFT4exHoLc6...|  5.0|SRSHXW5urzw4UYZNY...|SRSHXW5urzw4UYZNY...|1.2105263157894737|3.7894736842105265|\n",
      "|5CfE31qFqCQGpfh6i...|  5.0|3UHXD8T80OUFMCzLb...|3UHXD8T80OUFMCzLb...|1.2240437158469946|3.7759562841530054|\n",
      "|H2WhI7u2Zc-ozPnKB...|  5.0|3UHXD8T80OUFMCzLb...|3UHXD8T80OUFMCzLb...|1.2240437158469946|3.7759562841530054|\n",
      "|j14WgRoU_-2ZE1aw1...|  5.0|toRNyzwkG59NYJP2t...|toRNyzwkG59NYJP2t...|1.2258064516129032| 3.774193548387097|\n",
      "|kFV6jUEbhRb_EDjej...|  5.0|N94-orJ8r74MQ2VpL...|N94-orJ8r74MQ2VpL...|1.2352941176470589| 3.764705882352941|\n",
      "|5hHZFMXNdCurTwaQ2...|  5.0|uWLFplSCk3lI9rf84...|uWLFplSCk3lI9rf84...|1.2365591397849462| 3.763440860215054|\n",
      "|WeIzmxx0sub0R4KUP...|  5.0|rkqsFfbdeuXevR4Z3...|rkqsFfbdeuXevR4Z3...|1.2391304347826086|3.7608695652173916|\n",
      "|VU_iMC9xrM3PvobEA...|  5.0|8FZREDyibPgWsq2C1...|8FZREDyibPgWsq2C1...|1.2436974789915967|3.7563025210084033|\n",
      "|UlWDGR0QrBbdFsVY6...|  5.0|oB8E5HS8UEKuPi8JI...|oB8E5HS8UEKuPi8JI...|1.2592592592592593|3.7407407407407405|\n",
      "|fylDqbbgPEqZ9J4EB...|  5.0|LpHdRhehNHXQtPevE...|LpHdRhehNHXQtPevE...|              1.26|              3.74|\n",
      "+--------------------+-----+--------------------+--------------------+------------------+------------------+\n",
      "only showing top 20 rows"
     ]
    }
   ],
   "source": [
    "#Create a new column (stars_diff)\n",
    "from pyspark.sql.functions import col\n",
    "users_bus = users_bus.withColumn(\"stars_diff\", col(\"stars\") - col(\"avg(stars)\"))\n",
    "users_bus.sort(\"stars_diff\", ascending = False).show()"
   ]
  },
  {
   "cell_type": "code",
   "execution_count": 47,
   "id": "da2d0dd9",
   "metadata": {},
   "outputs": [
    {
     "data": {
      "application/vnd.jupyter.widget-view+json": {
       "model_id": "965e55b85ce04aaeb1eff0252cc2ab25",
       "version_major": 2,
       "version_minor": 0
      },
      "text/plain": [
       "VBox()"
      ]
     },
     "metadata": {},
     "output_type": "display_data"
    },
    {
     "data": {
      "application/vnd.jupyter.widget-view+json": {
       "model_id": "",
       "version_major": 2,
       "version_minor": 0
      },
      "text/plain": [
       "FloatProgress(value=0.0, bar_style='info', description='Progress:', layout=Layout(height='25px', width='50%'),…"
      ]
     },
     "metadata": {},
     "output_type": "display_data"
    }
   ],
   "source": [
    "#Convert the column \"stars_diff\" to a pandas dataframe\n",
    "diff_df = users_bus.select(\"stars_diff\").toPandas()"
   ]
  },
  {
   "cell_type": "code",
   "execution_count": 51,
   "id": "8b3669d5",
   "metadata": {},
   "outputs": [
    {
     "data": {
      "application/vnd.jupyter.widget-view+json": {
       "model_id": "380ebd4a2e5d4dd6a4fd268c8c1a617f",
       "version_major": 2,
       "version_minor": 0
      },
      "text/plain": [
       "VBox()"
      ]
     },
     "metadata": {},
     "output_type": "display_data"
    },
    {
     "data": {
      "application/vnd.jupyter.widget-view+json": {
       "model_id": "",
       "version_major": 2,
       "version_minor": 0
      },
      "text/plain": [
       "FloatProgress(value=0.0, bar_style='info', description='Progress:', layout=Layout(height='25px', width='50%'),…"
      ]
     },
     "metadata": {},
     "output_type": "display_data"
    },
    {
     "data": {
      "image/png": "[encoded data removed]",
      "text/plain": [
       "<IPython.core.display.Image object>"
      ]
     },
     "metadata": {},
     "output_type": "display_data"
    }
   ],
   "source": [
    "plt.figure(figsize =(18,6))\n",
    "#from scipy.stats import norm\n",
    "sns.distplot(diff_df, axlabel = \"stars_diff\", kde = True).set(title = \"Difference on Stars\")\n",
    "%matplot plt"
   ]
  },
  {
   "cell_type": "markdown",
   "id": "0c86616f",
   "metadata": {},
   "source": [
    "# IMPLICATIONS"
   ]
  },
  {
   "cell_type": "markdown",
   "id": "74fe0803",
   "metadata": {},
   "source": [
    "As the graph shows, differance mainly ranges from -4 from 4, the graph tends to spread out to both sides , which indicates that the difference between elite users' rating and the business average rating is quite large on the whole, they are not close to each other, so at this point, we can not take an elite user's review as reference to tell if a business is good or not."
   ]
  },
  {
   "cell_type": "markdown",
   "id": "900d4923",
   "metadata": {},
   "source": [
    "# Extra Credit (3 points)\n",
    "\n",
    "Try and analyze some interesting dimension to this data. \n",
    "**Requirements:**\n",
    "\n",
    "You must use the **Users** dataset and join on either the \"**business** or **reviews** dataset.\n",
    "\n",
    "You must render **one visual**"
   ]
  },
  {
   "cell_type": "markdown",
   "id": "4b64fcbd",
   "metadata": {},
   "source": [
    "#   More Reviewers Means a Higher Star for a Business?"
   ]
  },
  {
   "cell_type": "code",
   "execution_count": 83,
   "id": "d8e8f5bc",
   "metadata": {},
   "outputs": [
    {
     "data": {
      "application/vnd.jupyter.widget-view+json": {
       "model_id": "2731032fea0543898a188459467f0a25",
       "version_major": 2,
       "version_minor": 0
      },
      "text/plain": [
       "VBox()"
      ]
     },
     "metadata": {},
     "output_type": "display_data"
    },
    {
     "data": {
      "application/vnd.jupyter.widget-view+json": {
       "model_id": "",
       "version_major": 2,
       "version_minor": 0
      },
      "text/plain": [
       "FloatProgress(value=0.0, bar_style='info', description='Progress:', layout=Layout(height='25px', width='50%'),…"
      ]
     },
     "metadata": {},
     "output_type": "display_data"
    },
    {
     "name": "stdout",
     "output_type": "stream",
     "text": [
      "+--------------------+-------------------+\n",
      "|         business_id|number of reviewers|\n",
      "+--------------------+-------------------+\n",
      "|yqq1Fvt7WtduIO3Gw...|                 76|\n",
      "|zJErbOQMKX-MwHs_u...|                222|\n",
      "|XH3mYdTg4ZxWV-8W7...|                 18|\n",
      "|oQ0MQpVVyzGe_JTIL...|                 46|\n",
      "|ZFaG1Q3voENwwZPQA...|                 14|\n",
      "|jzsspHqP9kATWji8x...|                144|\n",
      "|skW4boArIApRw9DXK...|                 38|\n",
      "|sbYIQC5k2hVAqagH8...|                 88|\n",
      "|nGe0BipegbPjll9tG...|                220|\n",
      "|DeDszlU-Gg-Hodu_H...|                 11|\n",
      "|519hm725XtfGaK_7b...|                 30|\n",
      "|BJOGo_upuBElDT_xO...|                501|\n",
      "|dugSltSoiYMwQvttp...|                 46|\n",
      "|jg02zYvPsUGyHQBlK...|                 33|\n",
      "|ZamcoxNtToUXvMvwF...|                 31|\n",
      "|7Y1bCJLDE8surUcI1...|                  8|\n",
      "|3FKIev7ZB_KE6XHL9...|                455|\n",
      "|-JAwNIEJoDXmdE_8s...|                120|\n",
      "|WOPAPwhaPqQg0cn4t...|                 26|\n",
      "|P4E0Lv494T0OvvupB...|                 89|\n",
      "+--------------------+-------------------+\n",
      "only showing top 20 rows"
     ]
    }
   ],
   "source": [
    "#Number of reviewers for each business_id\n",
    "from pyspark.sql.functions import count\n",
    "reviewersnum = user_review.select(\"business_id\", user_df.user_id) \\\n",
    "    .groupby(\"business_id\") \\\n",
    "    .agg(count(user_df.user_id).alias(\"number of reviewers\"))\n",
    "reviewersnum.show()"
   ]
  },
  {
   "cell_type": "code",
   "execution_count": 84,
   "id": "767ff4a1",
   "metadata": {},
   "outputs": [
    {
     "data": {
      "application/vnd.jupyter.widget-view+json": {
       "model_id": "1b5a580b9d1449e681b203bc18b54820",
       "version_major": 2,
       "version_minor": 0
      },
      "text/plain": [
       "VBox()"
      ]
     },
     "metadata": {},
     "output_type": "display_data"
    },
    {
     "data": {
      "application/vnd.jupyter.widget-view+json": {
       "model_id": "",
       "version_major": 2,
       "version_minor": 0
      },
      "text/plain": [
       "FloatProgress(value=0.0, bar_style='info', description='Progress:', layout=Layout(height='25px', width='50%'),…"
      ]
     },
     "metadata": {},
     "output_type": "display_data"
    },
    {
     "name": "stdout",
     "output_type": "stream",
     "text": [
      "+--------------------+------------------+--------------------+-------------------+\n",
      "|         business_id|        avg(stars)|         business_id|number of reviewers|\n",
      "+--------------------+------------------+--------------------+-------------------+\n",
      "|--gJkxbsiSIwsQKbi...| 4.833333333333333|--gJkxbsiSIwsQKbi...|                  6|\n",
      "|-02xFuruu85XmDn2x...|  4.68595041322314|-02xFuruu85XmDn2x...|                121|\n",
      "|-0EdehHjIQc0DtYU8...| 3.138888888888889|-0EdehHjIQc0DtYU8...|                 36|\n",
      "|-0dKgi_Hpcis921nO...| 4.678571428571429|-0dKgi_Hpcis921nO...|                 28|\n",
      "|-0iIxySkp97WNlwK6...| 3.721030042918455|-0iIxySkp97WNlwK6...|                233|\n",
      "|-0qOecqGXEf_6Twai...| 4.238095238095238|-0qOecqGXEf_6Twai...|                 42|\n",
      "|-1ze-oWDnrGAzvAg5...|               5.0|-1ze-oWDnrGAzvAg5...|                 12|\n",
      "|-2j8XqQL68DPqYiaf...|               5.0|-2j8XqQL68DPqYiaf...|                  7|\n",
      "|-2wh7NTLkWEgsrLJv...| 4.416666666666667|-2wh7NTLkWEgsrLJv...|                 96|\n",
      "|-3e3CP3FFc-rvJj_-...|               3.7|-3e3CP3FFc-rvJj_-...|                 80|\n",
      "|-4E0hSCldRJZLI-1c...| 3.230769230769231|-4E0hSCldRJZLI-1c...|                 13|\n",
      "|-63ytt5vkWof-M9ND...|2.3333333333333335|-63ytt5vkWof-M9ND...|                 15|\n",
      "|-6L_z3ftD1iepJb0F...| 4.842592592592593|-6L_z3ftD1iepJb0F...|                108|\n",
      "|-6qt8a52bBwMogqwZ...| 4.620689655172414|-6qt8a52bBwMogqwZ...|                 29|\n",
      "|-6vtoe3VFedMGouTF...|1.9444444444444444|-6vtoe3VFedMGouTF...|                 18|\n",
      "|-8562lttAp_PuLWpQ...| 4.466666666666667|-8562lttAp_PuLWpQ...|                 15|\n",
      "|-8VpP01AKfnt4wpT-...| 4.362068965517241|-8VpP01AKfnt4wpT-...|                116|\n",
      "|-981bIUN3Qt27CVwN...|1.8823529411764706|-981bIUN3Qt27CVwN...|                 17|\n",
      "|-99aS7t1izJrDtgSU...|3.8666666666666667|-99aS7t1izJrDtgSU...|                 15|\n",
      "|-9lL4yFBX_7XVqUr8...|3.6791044776119404|-9lL4yFBX_7XVqUr8...|                134|\n",
      "+--------------------+------------------+--------------------+-------------------+\n",
      "only showing top 20 rows"
     ]
    }
   ],
   "source": [
    "#busrating created from Part IV\n",
    "num_vs_stars = busrating.join(reviewersnum, busrating.business_id == reviewersnum.business_id)\n",
    "num_vs_stars.show()"
   ]
  },
  {
   "cell_type": "code",
   "execution_count": 89,
   "id": "ca4177b3",
   "metadata": {},
   "outputs": [
    {
     "data": {
      "application/vnd.jupyter.widget-view+json": {
       "model_id": "5f07a6c3e24d43f681a77358382fb23a",
       "version_major": 2,
       "version_minor": 0
      },
      "text/plain": [
       "VBox()"
      ]
     },
     "metadata": {},
     "output_type": "display_data"
    },
    {
     "data": {
      "application/vnd.jupyter.widget-view+json": {
       "model_id": "",
       "version_major": 2,
       "version_minor": 0
      },
      "text/plain": [
       "FloatProgress(value=0.0, bar_style='info', description='Progress:', layout=Layout(height='25px', width='50%'),…"
      ]
     },
     "metadata": {},
     "output_type": "display_data"
    },
    {
     "name": "stdout",
     "output_type": "stream",
     "text": [
      "+--------------------+------------------+--------------------+-------------------+\n",
      "|         business_id|        avg(stars)|         business_id|number of reviewers|\n",
      "+--------------------+------------------+--------------------+-------------------+\n",
      "|_ab50qdWOk0DdB6XO...| 4.124983709109865|_ab50qdWOk0DdB6XO...|               7673|\n",
      "|ac1AeYqs8Z4_e2X5M...| 4.146221394358702|ac1AeYqs8Z4_e2X5M...|               7516|\n",
      "|GXFMD0Z4jEVZBCsbP...|4.4462662337662335|GXFMD0Z4jEVZBCsbP...|               6160|\n",
      "|ytynqOUb3hjKeJfRj...|  4.60539979231568|ytynqOUb3hjKeJfRj...|               5778|\n",
      "|oBNrLz4EDhiscSlbO...|4.2912234042553195|oBNrLz4EDhiscSlbO...|               5264|\n",
      "|iSRTaT9WngzB8JJ2Y...|3.4387133612485723|iSRTaT9WngzB8JJ2Y...|               5254|\n",
      "|VQcCL9PiNL_wkGf-u...|3.7866303925378935|VQcCL9PiNL_wkGf-u...|               5146|\n",
      "|_C7QiQQc47AOEv4PE...|  4.29201046488227|_C7QiQQc47AOEv4PE...|               4969|\n",
      "|GBTPC53ZrG1ZBY3DT...| 4.177429736108131|GBTPC53ZrG1ZBY3DT...|               4661|\n",
      "|6a4gLLFSgr-Q6CZXD...| 4.186383928571429|6a4gLLFSgr-Q6CZXD...|               4480|\n",
      "|PP3BBaVxZLcJU54uP...| 3.240158397391102|PP3BBaVxZLcJU54uP...|               4293|\n",
      "|1b5mnK8bMnnju_cvU...| 4.171179656227926|1b5mnK8bMnnju_cvU...|               4247|\n",
      "|I_3LMZ_1m2mzR0oLI...| 4.465184461275348|I_3LMZ_1m2mzR0oLI...|               4093|\n",
      "|VaO-VW3e1kARkU9bP...| 3.961824491819534|VaO-VW3e1kARkU9bP...|               4034|\n",
      "|qb28j-FNX1_6xm7u3...| 3.915386552505666|qb28j-FNX1_6xm7u3...|               3971|\n",
      "|gTC8IQ_i8zXytWSly...| 4.509318355884606|gTC8IQ_i8zXytWSly...|               3917|\n",
      "|yPSejq3_erxo9zdVY...|  4.48932887631782|yPSejq3_erxo9zdVY...|               3889|\n",
      "|wz8ZPfySQczcPgSyd...| 2.977435332966428|wz8ZPfySQczcPgSyd...|               3634|\n",
      "|VVH6k9-ycttH3TV_l...| 4.254610514726122|VVH6k9-ycttH3TV_l...|               3633|\n",
      "|IkY2ticzHEn4QFn8h...|2.5320886814469077|IkY2ticzHEn4QFn8h...|               3428|\n",
      "+--------------------+------------------+--------------------+-------------------+\n",
      "only showing top 20 rows"
     ]
    }
   ],
   "source": [
    "from pyspark.sql.types import StringType\n",
    "num_vs_stars.withColumn(\"number of reviewers\", col(\"number of reviewers\").cast(StringType()))\n",
    "num_vs_stars.sort(\"number of reviewers\", ascending = False).show()"
   ]
  },
  {
   "cell_type": "code",
   "execution_count": 92,
   "id": "485c3311",
   "metadata": {},
   "outputs": [
    {
     "data": {
      "application/vnd.jupyter.widget-view+json": {
       "model_id": "b2b13acec20c44f2a93f646b365f6024",
       "version_major": 2,
       "version_minor": 0
      },
      "text/plain": [
       "VBox()"
      ]
     },
     "metadata": {},
     "output_type": "display_data"
    },
    {
     "data": {
      "application/vnd.jupyter.widget-view+json": {
       "model_id": "",
       "version_major": 2,
       "version_minor": 0
      },
      "text/plain": [
       "FloatProgress(value=0.0, bar_style='info', description='Progress:', layout=Layout(height='25px', width='50%'),…"
      ]
     },
     "metadata": {},
     "output_type": "display_data"
    }
   ],
   "source": [
    "scatter_df = num_vs_stars.select(\"number of reviewers\", \"avg(stars)\").toPandas()"
   ]
  },
  {
   "cell_type": "code",
   "execution_count": 91,
   "id": "b90a9288",
   "metadata": {},
   "outputs": [
    {
     "data": {
      "application/vnd.jupyter.widget-view+json": {
       "model_id": "cb557a69089b4d02b37f61971460b8df",
       "version_major": 2,
       "version_minor": 0
      },
      "text/plain": [
       "VBox()"
      ]
     },
     "metadata": {},
     "output_type": "display_data"
    },
    {
     "data": {
      "application/vnd.jupyter.widget-view+json": {
       "model_id": "",
       "version_major": 2,
       "version_minor": 0
      },
      "text/plain": [
       "FloatProgress(value=0.0, bar_style='info', description='Progress:', layout=Layout(height='25px', width='50%'),…"
      ]
     },
     "metadata": {},
     "output_type": "display_data"
    },
    {
     "data": {
      "image/png": "[encoded data removed]",
      "text/plain": [
       "<IPython.core.display.Image object>"
      ]
     },
     "metadata": {},
     "output_type": "display_data"
    }
   ],
   "source": [
    "#Scatter plot\n",
    "plt.figure(figsize =(18,6))\n",
    "#from scipy.stats import norm\n",
    "sns.scatterplot(data=scatter_df, x=\"number of reviewers\", y=\"avg(stars)\")\n",
    "%matplot plt"
   ]
  },
  {
   "cell_type": "markdown",
   "id": "1632d02f",
   "metadata": {},
   "source": [
    "# IMPLICATIONS"
   ]
  },
  {
   "cell_type": "markdown",
   "id": "1de0f12d",
   "metadata": {},
   "source": [
    "The graph does not explicitly indicate the correlation between number of reviewers and stars of a business, however, we still can tell that as the reviewers increase, a business has more possibility to get a higher star."
   ]
  },
  {
   "cell_type": "markdown",
   "id": "ccbd0b4a",
   "metadata": {},
   "source": []
  },
  {
   "cell_type": "markdown",
   "id": "7cce6126",
   "metadata": {},
   "source": []
  },
  {
   "cell_type": "markdown",
   "id": "6d10f47e",
   "metadata": {},
   "source": [
    "# Top 20 Business Names Having Most Reviews from Elite Users"
   ]
  },
  {
   "cell_type": "code",
   "execution_count": 34,
   "id": "a951b634",
   "metadata": {},
   "outputs": [
    {
     "data": {
      "application/vnd.jupyter.widget-view+json": {
       "model_id": "6e6bd244ffc74a4981f79a576a5c3f6f",
       "version_major": 2,
       "version_minor": 0
      },
      "text/plain": [
       "VBox()"
      ]
     },
     "metadata": {},
     "output_type": "display_data"
    },
    {
     "data": {
      "application/vnd.jupyter.widget-view+json": {
       "model_id": "",
       "version_major": 2,
       "version_minor": 0
      },
      "text/plain": [
       "FloatProgress(value=0.0, bar_style='info', description='Progress:', layout=Layout(height='25px', width='50%'),…"
      ]
     },
     "metadata": {},
     "output_type": "display_data"
    }
   ],
   "source": [
    "#Join users table and review table\n",
    "user_review = user_df.join(review_df, user_df.user_id == review_df.user_id)"
   ]
  },
  {
   "cell_type": "code",
   "execution_count": 35,
   "id": "ec17ea90",
   "metadata": {},
   "outputs": [
    {
     "data": {
      "application/vnd.jupyter.widget-view+json": {
       "model_id": "5ce5d370ec624dc592b4e210c0fbae8b",
       "version_major": 2,
       "version_minor": 0
      },
      "text/plain": [
       "VBox()"
      ]
     },
     "metadata": {},
     "output_type": "display_data"
    },
    {
     "data": {
      "application/vnd.jupyter.widget-view+json": {
       "model_id": "",
       "version_major": 2,
       "version_minor": 0
      },
      "text/plain": [
       "FloatProgress(value=0.0, bar_style='info', description='Progress:', layout=Layout(height='25px', width='50%'),…"
      ]
     },
     "metadata": {},
     "output_type": "display_data"
    },
    {
     "name": "stdout",
     "output_type": "stream",
     "text": [
      "+--------------------+--------------------+-----+\n",
      "|         business_id|               elite|stars|\n",
      "+--------------------+--------------------+-----+\n",
      "|TV81bpCQ6p6o4Hau5...|2017,2018,2019,20...|  4.0|\n",
      "|W4ZEKkva9HpAdZG88...|2014,2015,2016,20...|  5.0|\n",
      "|E-4t5Hoon6aVFTWDP...|2014,2015,2016,20...|  5.0|\n",
      "|_pbx96FZ3eHJw-V_R...|                2015|  3.0|\n",
      "|8uF-bhJFgT4Tn6DTb...|          2019,20,20|  5.0|\n",
      "|zaC6coZ5Gp8mLjeg7...|2011,2012,2013,20...|  4.0|\n",
      "|EqEcDeXqIq1YwnzHg...|2018,2019,20,20,2021|  5.0|\n",
      "|3w7NRntdQ9h0KwDsk...|2012,2013,2014,20...|  4.0|\n",
      "|yE1raqkLX7OZsjmX3...|2017,2018,2019,20,20|  5.0|\n",
      "|EP2jFD3aGoSBCWb7i...|                2015|  4.0|\n",
      "|hS6KNGCQVTYUdLb2e...|2018,2019,20,20,2021|  4.0|\n",
      "|uW8L6awmCyjovD9Oh...|           2014,2015|  5.0|\n",
      "|6kAXOzE7fqaBZINQV...|           2017,2018|  4.0|\n",
      "|yLIn3po-fKb0T3UIo...|2011,2012,2013,20...|  5.0|\n",
      "|oQ5CPRt0R3AzFvcjN...|2018,2019,20,20,2021|  3.0|\n",
      "|psI9u_iVuWFcchWhe...| 2006,2007,2008,2010|  3.0|\n",
      "|wzE61ThXOdrSegvwS...|           2017,2018|  5.0|\n",
      "|z6SVTb9eFIcWVpKXI...|2011,2012,2013,20...|  4.0|\n",
      "|hdVqM-QngiiLRaMOv...|2011,2012,2013,20...|  5.0|\n",
      "|kPG6r0h73sPgXBei0...|2011,2012,2013,20...|  4.0|\n",
      "+--------------------+--------------------+-----+\n",
      "only showing top 20 rows"
     ]
    }
   ],
   "source": [
    "#Get reviews by elite users\n",
    "elite_rev = user_review.select(\"business_id\", \"elite\", \"stars\") \\\n",
    "    .filter(user_review.elite != \"\")\n",
    "elite_rev.show()"
   ]
  },
  {
   "cell_type": "code",
   "execution_count": 36,
   "id": "31e9ebfd",
   "metadata": {},
   "outputs": [
    {
     "data": {
      "application/vnd.jupyter.widget-view+json": {
       "model_id": "74a2db4a0bcd460eab5f9cf3aeccd151",
       "version_major": 2,
       "version_minor": 0
      },
      "text/plain": [
       "VBox()"
      ]
     },
     "metadata": {},
     "output_type": "display_data"
    },
    {
     "data": {
      "application/vnd.jupyter.widget-view+json": {
       "model_id": "",
       "version_major": 2,
       "version_minor": 0
      },
      "text/plain": [
       "FloatProgress(value=0.0, bar_style='info', description='Progress:', layout=Layout(height='25px', width='50%'),…"
      ]
     },
     "metadata": {},
     "output_type": "display_data"
    },
    {
     "name": "stdout",
     "output_type": "stream",
     "text": [
      "+--------------------+-----+\n",
      "|         business_id|count|\n",
      "+--------------------+-----+\n",
      "|zJErbOQMKX-MwHs_u...|   86|\n",
      "|HSzSGdcNaU7heQe0N...|   11|\n",
      "|skW4boArIApRw9DXK...|   15|\n",
      "|I0053JmJ5DEFUWSJ8...|   23|\n",
      "|kPG6r0h73sPgXBei0...|   31|\n",
      "|Ety2Z0CImO6FYDV6L...|   29|\n",
      "|Qbxo9pb5yDsbD3GSu...|   21|\n",
      "|whUR7TFShhEhPT0X2...|    4|\n",
      "|Yh_KhyVD6ZBwsIQQ1...|   58|\n",
      "|H94SJrxs9Fx-WYUSm...|    1|\n",
      "|64i1xdiU1Wvo1Cuu0...|   28|\n",
      "|9-uRQkRkXdPQmnU1o...|   33|\n",
      "|3I3YM0yD2jaXZTK3Y...|    7|\n",
      "|0YiRkVMR2cg17hk9u...|    5|\n",
      "|scychO44eMoosS9iE...|    3|\n",
      "|xR1Wkmrm3yoAJuxPm...|   20|\n",
      "|EyBlARgBUFBu6ZYS9...|   34|\n",
      "|gZqFuqTjtN4Bfh-_f...|   65|\n",
      "|pP4q0Mym-qt20nRqT...|   62|\n",
      "|lXCFcmhoRsyW-mnzz...|   36|\n",
      "+--------------------+-----+\n",
      "only showing top 20 rows"
     ]
    }
   ],
   "source": [
    "#Group the datafram, get count\n",
    "elite_rev_grouped = elite_rev.groupby(\"business_id\")\n",
    "elite_rev_grouped.count().show()"
   ]
  },
  {
   "cell_type": "code",
   "execution_count": 37,
   "id": "70686e4d",
   "metadata": {},
   "outputs": [
    {
     "data": {
      "application/vnd.jupyter.widget-view+json": {
       "model_id": "89e1d25642664413b327b2199893d2a8",
       "version_major": 2,
       "version_minor": 0
      },
      "text/plain": [
       "VBox()"
      ]
     },
     "metadata": {},
     "output_type": "display_data"
    },
    {
     "data": {
      "application/vnd.jupyter.widget-view+json": {
       "model_id": "",
       "version_major": 2,
       "version_minor": 0
      },
      "text/plain": [
       "FloatProgress(value=0.0, bar_style='info', description='Progress:', layout=Layout(height='25px', width='50%'),…"
      ]
     },
     "metadata": {},
     "output_type": "display_data"
    },
    {
     "name": "stdout",
     "output_type": "stream",
     "text": [
      "+--------------------+-----+\n",
      "|         business_id|count|\n",
      "+--------------------+-----+\n",
      "|_ab50qdWOk0DdB6XO...| 2330|\n",
      "|ytynqOUb3hjKeJfRj...| 1955|\n",
      "|GXFMD0Z4jEVZBCsbP...| 1790|\n",
      "|_C7QiQQc47AOEv4PE...| 1568|\n",
      "|PP3BBaVxZLcJU54uP...| 1520|\n",
      "|iSRTaT9WngzB8JJ2Y...| 1462|\n",
      "|GBTPC53ZrG1ZBY3DT...| 1402|\n",
      "|ac1AeYqs8Z4_e2X5M...| 1368|\n",
      "|6a4gLLFSgr-Q6CZXD...| 1340|\n",
      "|gTC8IQ_i8zXytWSly...| 1288|\n",
      "|-QI8Qi8XWH3D8y8et...| 1257|\n",
      "|VaO-VW3e1kARkU9bP...| 1169|\n",
      "|Eb1XmmLWyt_way5NN...| 1162|\n",
      "|VVH6k9-ycttH3TV_l...| 1158|\n",
      "|1b5mnK8bMnnju_cvU...| 1153|\n",
      "|I_3LMZ_1m2mzR0oLI...| 1149|\n",
      "|6Ty-KKWq6hLZYW8DW...| 1138|\n",
      "|IkY2ticzHEn4QFn8h...| 1131|\n",
      "|oBNrLz4EDhiscSlbO...| 1110|\n",
      "|VQcCL9PiNL_wkGf-u...| 1093|\n",
      "+--------------------+-----+\n",
      "only showing top 20 rows"
     ]
    }
   ],
   "source": [
    "#Sort it\n",
    "top_bus_eliterev = elite_rev_grouped.count().sort(\"count\", ascending = False)\n",
    "top_bus_eliterev.show()"
   ]
  },
  {
   "cell_type": "code",
   "execution_count": 38,
   "id": "3199285c",
   "metadata": {},
   "outputs": [
    {
     "data": {
      "application/vnd.jupyter.widget-view+json": {
       "model_id": "902ce0809a0a4588b836ea4f27c05779",
       "version_major": 2,
       "version_minor": 0
      },
      "text/plain": [
       "VBox()"
      ]
     },
     "metadata": {},
     "output_type": "display_data"
    },
    {
     "data": {
      "application/vnd.jupyter.widget-view+json": {
       "model_id": "",
       "version_major": 2,
       "version_minor": 0
      },
      "text/plain": [
       "FloatProgress(value=0.0, bar_style='info', description='Progress:', layout=Layout(height='25px', width='50%'),…"
      ]
     },
     "metadata": {},
     "output_type": "display_data"
    },
    {
     "name": "stdout",
     "output_type": "stream",
     "text": [
      "+--------------------+-----+--------------------+--------------------+\n",
      "|         business_id|count|         business_id|                name|\n",
      "+--------------------+-----+--------------------+--------------------+\n",
      "|_ab50qdWOk0DdB6XO...| 2330|_ab50qdWOk0DdB6XO...|   Acme Oyster House|\n",
      "|ytynqOUb3hjKeJfRj...| 1955|ytynqOUb3hjKeJfRj...|Reading Terminal ...|\n",
      "|GXFMD0Z4jEVZBCsbP...| 1790|GXFMD0Z4jEVZBCsbP...|Hattie B’s Hot Ch...|\n",
      "|_C7QiQQc47AOEv4PE...| 1568|_C7QiQQc47AOEv4PE...|  Commander's Palace|\n",
      "|PP3BBaVxZLcJU54uP...| 1520|PP3BBaVxZLcJU54uP...|Pat's King of Steaks|\n",
      "|iSRTaT9WngzB8JJ2Y...| 1462|iSRTaT9WngzB8JJ2Y...| Mother's Restaurant|\n",
      "|GBTPC53ZrG1ZBY3DT...| 1402|GBTPC53ZrG1ZBY3DT...|                Luke|\n",
      "|ac1AeYqs8Z4_e2X5M...| 1368|ac1AeYqs8Z4_e2X5M...|        Oceana Grill|\n",
      "|6a4gLLFSgr-Q6CZXD...| 1340|6a4gLLFSgr-Q6CZXD...|              Cochon|\n",
      "|gTC8IQ_i8zXytWSly...| 1288|gTC8IQ_i8zXytWSly...|      Cochon Butcher|\n",
      "|-QI8Qi8XWH3D8y8et...| 1257|-QI8Qi8XWH3D8y8et...|Philadelphia Inte...|\n",
      "|VaO-VW3e1kARkU9bP...| 1169|VaO-VW3e1kARkU9bP...|Felix's Restauran...|\n",
      "|Eb1XmmLWyt_way5NN...| 1162|Eb1XmmLWyt_way5NN...|Louis Armstrong N...|\n",
      "|VVH6k9-ycttH3TV_l...| 1158|VVH6k9-ycttH3TV_l...|Willie Mae's Scot...|\n",
      "|1b5mnK8bMnnju_cvU...| 1153|1b5mnK8bMnnju_cvU...| Biscuit Love: Gulch|\n",
      "|I_3LMZ_1m2mzR0oLI...| 1149|I_3LMZ_1m2mzR0oLI...|  Pappy's Smokehouse|\n",
      "|6Ty-KKWq6hLZYW8DW...| 1138|6Ty-KKWq6hLZYW8DW...|       Pat O'Brien’s|\n",
      "|IkY2ticzHEn4QFn8h...| 1131|IkY2ticzHEn4QFn8h...|       Geno's Steaks|\n",
      "|oBNrLz4EDhiscSlbO...| 1110|oBNrLz4EDhiscSlbO...|Ruby Slipper - Ne...|\n",
      "|VQcCL9PiNL_wkGf-u...| 1093|VQcCL9PiNL_wkGf-u...|         Royal House|\n",
      "+--------------------+-----+--------------------+--------------------+\n",
      "only showing top 20 rows"
     ]
    }
   ],
   "source": [
    "#Join the business table, get the name field\n",
    "bus_name_df = df.select(\"business_id\", \"name\")\n",
    "top_bus_eliterev = top_bus_eliterev.join(bus_name_df, top_bus_eliterev.business_id == bus_name_df.business_id)\n",
    "top_bus_eliterev.show()"
   ]
  },
  {
   "cell_type": "code",
   "execution_count": 39,
   "id": "14e2767a",
   "metadata": {},
   "outputs": [
    {
     "data": {
      "application/vnd.jupyter.widget-view+json": {
       "model_id": "863beda12bb14748a194622b022f65d4",
       "version_major": 2,
       "version_minor": 0
      },
      "text/plain": [
       "VBox()"
      ]
     },
     "metadata": {},
     "output_type": "display_data"
    },
    {
     "data": {
      "application/vnd.jupyter.widget-view+json": {
       "model_id": "",
       "version_major": 2,
       "version_minor": 0
      },
      "text/plain": [
       "FloatProgress(value=0.0, bar_style='info', description='Progress:', layout=Layout(height='25px', width='50%'),…"
      ]
     },
     "metadata": {},
     "output_type": "display_data"
    }
   ],
   "source": [
    "#Convert to pandas dataframe\n",
    "top_bus_eliterev = top_bus_eliterev.toPandas()"
   ]
  },
  {
   "cell_type": "code",
   "execution_count": 40,
   "id": "b4c90d85",
   "metadata": {},
   "outputs": [
    {
     "data": {
      "application/vnd.jupyter.widget-view+json": {
       "model_id": "a345e84e6186491ca1f820eb6ce21f29",
       "version_major": 2,
       "version_minor": 0
      },
      "text/plain": [
       "VBox()"
      ]
     },
     "metadata": {},
     "output_type": "display_data"
    },
    {
     "data": {
      "application/vnd.jupyter.widget-view+json": {
       "model_id": "",
       "version_major": 2,
       "version_minor": 0
      },
      "text/plain": [
       "FloatProgress(value=0.0, bar_style='info', description='Progress:', layout=Layout(height='25px', width='50%'),…"
      ]
     },
     "metadata": {},
     "output_type": "display_data"
    },
    {
     "data": {
      "image/png": "[encoded data removed]",
      "text/plain": [
       "<IPython.core.display.Image object>"
      ]
     },
     "metadata": {},
     "output_type": "display_data"
    }
   ],
   "source": [
    "#Plot a bar chart\n",
    "plt.figure(figsize =(10,6))\n",
    "top_bus_eliterev[0:20].plot(kind='bar', x='name', figsize =(10,6)) \\\n",
    "    .set(title = \"Top 20 business Names Having Most Reviews from Elite Users\")\n",
    "%matplot plt"
   ]
  },
  {
   "cell_type": "code",
   "execution_count": null,
   "id": "d386e3bb",
   "metadata": {},
   "outputs": [],
   "source": []
  }
 ],
 "metadata": {
  "kernelspec": {
   "display_name": "PySpark",
   "language": "",
   "name": "pysparkkernel"
  },
  "language_info": {
   "codemirror_mode": {
    "name": "python",
    "version": 2
   },
   "mimetype": "text/x-python",
   "name": "pyspark",
   "pygments_lexer": "python2"
  }
 },
 "nbformat": 4,
 "nbformat_minor": 5
}
